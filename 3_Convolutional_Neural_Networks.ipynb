{
  "metadata": {
    "kernelspec": {
      "language": "python",
      "display_name": "Python 3",
      "name": "python3"
    },
    "language_info": {
      "pygments_lexer": "ipython3",
      "nbconvert_exporter": "python",
      "version": "3.6.4",
      "file_extension": ".py",
      "codemirror_mode": {
        "name": "ipython",
        "version": 3
      },
      "name": "python",
      "mimetype": "text/x-python"
    },
    "colab": {
      "name": "3_Convolutional_Neural_Networks.ipynb",
      "provenance": [],
      "collapsed_sections": []
    }
  },
  "nbformat_minor": 0,
  "nbformat": 4,
  "cells": [
    {
      "cell_type": "markdown",
      "source": [
        "# **Convolutional Neural Networks**"
      ],
      "metadata": {
        "id": "q_-tfBPsbkyI"
      }
    },
    {
      "cell_type": "markdown",
      "source": [
        "In the previous section, we built and trained a simple model to classify ASL images. The model was able to learn how to correctly classify the training dataset with very high accuracy, but, it did not perform nearly as well on validation dataset. This behavior of not generalizing well to non-training data is called [overfitting](https://scikit-learn.org/stable/auto_examples/model_selection/plot_underfitting_overfitting.html), and in this section, we will introduce a popular kind of model called a [convolutional neural network](https://towardsdatascience.com/a-comprehensive-guide-to-convolutional-neural-networks-the-eli5-way-3bd2b1164a53) that is especially **good for reading images and classifying them.**"
      ],
      "metadata": {
        "id": "gS9EYTIXbkyJ"
      }
    },
    {
      "cell_type": "markdown",
      "source": [
        "## Objectives"
      ],
      "metadata": {
        "id": "oJmTrERvbkyJ"
      }
    },
    {
      "cell_type": "markdown",
      "source": [
        "* Prepare data specifically for a CNN\n",
        "* Create a more sophisticated CNN model, understanding a greater variety of model layers\n",
        "* Train a CNN model and observe its performance"
      ],
      "metadata": {
        "id": "YhlKqXs5bkyK"
      }
    },
    {
      "cell_type": "markdown",
      "source": [
        "## Loading and Preparing the Data"
      ],
      "metadata": {
        "id": "2MtA1MBzbkyK"
      }
    },
    {
      "cell_type": "code",
      "source": [
        "import tensorflow.keras as keras\n",
        "import pandas as pd\n",
        "\n",
        "# load in our data from CSV files\n",
        "train_df = pd.read_csv(\"/content/sign_mnist_train.csv\")\n",
        "valid_df = pd.read_csv(\"/content/sign_mnist_valid.csv\")\n",
        "\n",
        "# separate out our target values\n",
        "y_train = train_df['label']\n",
        "y_valid = valid_df['label']\n",
        "del train_df['label']\n",
        "del valid_df['label']\n",
        "\n",
        "# separate out our image vectors\n",
        "x_train = train_df.values\n",
        "x_valid = valid_df.values\n",
        "\n",
        "# turn our scalar targets into binary categories\n",
        "num_classes = 24\n",
        "y_train = keras.utils.to_categorical(y_train, num_classes)\n",
        "y_valid = keras.utils.to_categorical(y_valid, num_classes)\n",
        "\n",
        "# normalize our image data\n",
        "x_train = x_train / 255\n",
        "x_valid = x_valid / 255"
      ],
      "metadata": {
        "execution": {
          "iopub.status.busy": "2021-12-24T11:22:29.424177Z",
          "iopub.execute_input": "2021-12-24T11:22:29.424665Z",
          "iopub.status.idle": "2021-12-24T11:22:32.202873Z",
          "shell.execute_reply.started": "2021-12-24T11:22:29.424635Z",
          "shell.execute_reply": "2021-12-24T11:22:32.201354Z"
        },
        "trusted": true,
        "id": "VpcehdA0bkyM"
      },
      "execution_count": 1,
      "outputs": []
    },
    {
      "cell_type": "markdown",
      "source": [
        "## Reshaping Images for a CNN"
      ],
      "metadata": {
        "id": "4Cvq3tyEbkyO"
      }
    },
    {
      "cell_type": "markdown",
      "source": [
        "The individual pictures in our dataset are in the format of long lists of 784 pixels:"
      ],
      "metadata": {
        "id": "o7d1v-KXbkyP"
      }
    },
    {
      "cell_type": "code",
      "source": [
        "x_train.shape, x_valid.shape"
      ],
      "metadata": {
        "execution": {
          "iopub.status.busy": "2021-12-24T11:22:32.204165Z",
          "iopub.status.idle": "2021-12-24T11:22:32.204783Z",
          "shell.execute_reply.started": "2021-12-24T11:22:32.204531Z",
          "shell.execute_reply": "2021-12-24T11:22:32.204556Z"
        },
        "trusted": true,
        "id": "ZWzUbxcpbkyP",
        "colab": {
          "base_uri": "https://localhost:8080/"
        },
        "outputId": "29f53755-1509-411a-8bc0-2b44026da3e2"
      },
      "execution_count": 2,
      "outputs": [
        {
          "output_type": "execute_result",
          "data": {
            "text/plain": [
              "((27455, 784), (7172, 784))"
            ]
          },
          "metadata": {},
          "execution_count": 2
        }
      ]
    },
    {
      "cell_type": "markdown",
      "source": [
        "In this format, we don't have all the information about which pixels are near each other. Because of this, we can't apply convolutions that will detect features. Let's **reshape our dataset so that they are in a 28x28 pixel format. This will allow our convolutions to associate groups of pixels and detect important features.**\n",
        "\n",
        "Note that for the first convolutional layer of our model, we need to have not only the height and width of the image, but also the number of [color channels](https://www.photoshopessentials.com/essentials/rgb/). Our images are **grayscale**, so we'll just have **1 channel.**\n",
        "\n",
        "That means that we need to **convert the current shape** `(27455, 784)` to `(27455, 28, 28, 1)`. As a convenience, we can pass the [reshape](https://numpy.org/doc/stable/reference/generated/numpy.reshape.html#numpy.reshape) method a `-1` for any dimension we wish to remain the same, therefore:"
      ],
      "metadata": {
        "id": "SR3z1rpkbkyQ"
      }
    },
    {
      "cell_type": "code",
      "source": [
        "x_train = x_train.reshape(-1,28,28,1)\n",
        "x_valid = x_valid.reshape(-1,28,28,1)"
      ],
      "metadata": {
        "execution": {
          "iopub.status.busy": "2021-12-24T11:22:32.206251Z",
          "iopub.status.idle": "2021-12-24T11:22:32.206702Z",
          "shell.execute_reply.started": "2021-12-24T11:22:32.206465Z",
          "shell.execute_reply": "2021-12-24T11:22:32.20649Z"
        },
        "trusted": true,
        "id": "zCqXMXahbkyQ"
      },
      "execution_count": 3,
      "outputs": []
    },
    {
      "cell_type": "code",
      "source": [
        "x_train.shape"
      ],
      "metadata": {
        "execution": {
          "iopub.status.busy": "2021-12-24T11:22:32.208104Z",
          "iopub.status.idle": "2021-12-24T11:22:32.208582Z",
          "shell.execute_reply.started": "2021-12-24T11:22:32.20842Z",
          "shell.execute_reply": "2021-12-24T11:22:32.208439Z"
        },
        "trusted": true,
        "id": "EXgnvHtKbkyR",
        "colab": {
          "base_uri": "https://localhost:8080/"
        },
        "outputId": "69eccb2c-d6e0-490a-a93e-d95a4cf0b54c"
      },
      "execution_count": 4,
      "outputs": [
        {
          "output_type": "execute_result",
          "data": {
            "text/plain": [
              "(27455, 28, 28, 1)"
            ]
          },
          "metadata": {},
          "execution_count": 4
        }
      ]
    },
    {
      "cell_type": "code",
      "source": [
        "x_valid.shape"
      ],
      "metadata": {
        "execution": {
          "iopub.status.busy": "2021-12-24T11:22:32.209418Z",
          "iopub.status.idle": "2021-12-24T11:22:32.210266Z",
          "shell.execute_reply.started": "2021-12-24T11:22:32.210052Z",
          "shell.execute_reply": "2021-12-24T11:22:32.210076Z"
        },
        "trusted": true,
        "id": "b8-7dUD0bkyR",
        "colab": {
          "base_uri": "https://localhost:8080/"
        },
        "outputId": "e8a13f83-48a1-4f88-9cf9-20b415dca41e"
      },
      "execution_count": 5,
      "outputs": [
        {
          "output_type": "execute_result",
          "data": {
            "text/plain": [
              "(7172, 28, 28, 1)"
            ]
          },
          "metadata": {},
          "execution_count": 5
        }
      ]
    },
    {
      "cell_type": "code",
      "source": [
        "x_train.shape, x_valid.shape"
      ],
      "metadata": {
        "execution": {
          "iopub.status.busy": "2021-12-24T11:22:32.211017Z",
          "iopub.status.idle": "2021-12-24T11:22:32.211295Z",
          "shell.execute_reply.started": "2021-12-24T11:22:32.211147Z",
          "shell.execute_reply": "2021-12-24T11:22:32.211162Z"
        },
        "trusted": true,
        "id": "iSvgJFLRbkyS",
        "colab": {
          "base_uri": "https://localhost:8080/"
        },
        "outputId": "b9aa156d-38d9-426e-b38d-6e10b276bbf8"
      },
      "execution_count": 6,
      "outputs": [
        {
          "output_type": "execute_result",
          "data": {
            "text/plain": [
              "((27455, 28, 28, 1), (7172, 28, 28, 1))"
            ]
          },
          "metadata": {},
          "execution_count": 6
        }
      ]
    },
    {
      "cell_type": "markdown",
      "source": [
        "## Creating a Convolutional Model"
      ],
      "metadata": {
        "id": "j9hx8klrbkyS"
      }
    },
    {
      "cell_type": "markdown",
      "source": [
        "These days, many data scientists start their projects by borrowing model properties from a similar project. Assuming the problem is not totally unique, there's a great chance that people have created models that will perform well which are posted in online repositories like [TensorFlow Hub](https://www.tensorflow.org/hub) and the [NGC Catalog](https://ngc.nvidia.com/catalog/models). Today, we'll provide a model that will work well for this problem.\n",
        "\n",
        "<center><img src=\"https://i.postimg.cc/xdhhXptj/cnn.png\" width=\"200\"></center>"
      ],
      "metadata": {
        "id": "E2sacb8mbkyS"
      }
    },
    {
      "cell_type": "code",
      "source": [
        "from tensorflow.keras.models import Sequential\n",
        "from tensorflow.keras.layers import (\n",
        "    Dense,\n",
        "    Conv2D,\n",
        "    MaxPool2D,\n",
        "    Flatten,\n",
        "    Dropout,\n",
        "    BatchNormalization,\n",
        ")\n",
        "\n",
        "model = Sequential()\n",
        "model.add(Conv2D(75, (3, 3), strides=1, padding=\"same\", activation=\"relu\", \n",
        "                 input_shape=(28, 28, 1)))\n",
        "model.add(BatchNormalization())\n",
        "model.add(MaxPool2D((2, 2), strides=2, padding=\"same\"))\n",
        "model.add(Conv2D(50, (3, 3), strides=1, padding=\"same\", activation=\"relu\"))\n",
        "model.add(Dropout(0.2))\n",
        "model.add(BatchNormalization())\n",
        "model.add(MaxPool2D((2, 2), strides=2, padding=\"same\"))\n",
        "model.add(Conv2D(25, (3, 3), strides=1, padding=\"same\", activation=\"relu\"))\n",
        "model.add(BatchNormalization())\n",
        "model.add(MaxPool2D((2, 2), strides=2, padding=\"same\"))\n",
        "model.add(Flatten())\n",
        "model.add(Dense(units=512, activation=\"relu\"))\n",
        "model.add(Dropout(0.3))\n",
        "model.add(Dense(units=num_classes, activation=\"softmax\"))"
      ],
      "metadata": {
        "execution": {
          "iopub.status.busy": "2021-12-24T11:22:32.212092Z",
          "iopub.status.idle": "2021-12-24T11:22:32.212369Z",
          "shell.execute_reply.started": "2021-12-24T11:22:32.212223Z",
          "shell.execute_reply": "2021-12-24T11:22:32.212238Z"
        },
        "trusted": true,
        "id": "Ht-gsDhhbkyT"
      },
      "execution_count": 7,
      "outputs": []
    },
    {
      "cell_type": "markdown",
      "source": [
        "### [Conv2D](https://www.tensorflow.org/api_docs/python/tf/keras/layers/Conv2D)"
      ],
      "metadata": {
        "id": "jHAM3VkJbkyT"
      }
    },
    {
      "cell_type": "markdown",
      "source": [
        "<center><img src=\"https://i.postimg.cc/j2mLmbX0/conv2d.png\" width=\"400\"></center>\n",
        "\n",
        "These are our 2D convolutional layers. **Small kernels will go over the input image and detect features that are important for classification.** Earlier convolutions in the model will detect simple features such as lines. Later convolutions will detect more complex features. Let's look at our first Conv2D layer:\n",
        "```Python\n",
        "model.add(Conv2D(75 , (3,3) , strides = 1 , padding = 'same'...)\n",
        "```\n",
        "75 refers to the **number of filters that will be learned.** (3,3) refers to the **size of those filters.** Strides refer to the **step size that the filter will take as it passes over the image**. Padding refers to **whether the output image that's created from the filter will match the size of the input image.** "
      ],
      "metadata": {
        "id": "mjeDGRIPbkyU"
      }
    },
    {
      "cell_type": "markdown",
      "source": [
        "### [BatchNormalization](https://www.tensorflow.org/api_docs/python/tf/keras/layers/BatchNormalization)"
      ],
      "metadata": {
        "id": "VkoF1vnkbkyU"
      }
    },
    {
      "cell_type": "markdown",
      "source": [
        "Like normalizing our inputs, **batch normalization scales the values in the hidden layers to improve training.** [Read more about it in detail here](https://towardsdatascience.com/batch-normalization-in-neural-networks-1ac91516821c). "
      ],
      "metadata": {
        "id": "mqtsiAjHbkyV"
      }
    },
    {
      "cell_type": "markdown",
      "source": [
        "### [MaxPool2D](https://www.tensorflow.org/api_docs/python/tf/keras/layers/MaxPool2D)"
      ],
      "metadata": {
        "id": "w5zRghmJbkyV"
      }
    },
    {
      "cell_type": "markdown",
      "source": [
        "<center><img src=\"https://i.postimg.cc/vm08CyYq/maxpool2d.png\" width=\"400\"></center>\n",
        "\n",
        "**Max pooling takes an image and essentially shrinks it to a lower resolution.** It does this to help the model be robust to translation (objects moving side to side), and also makes our model faster."
      ],
      "metadata": {
        "id": "xYuegl97bkyV"
      }
    },
    {
      "cell_type": "markdown",
      "source": [
        "### [Dropout](https://www.tensorflow.org/api_docs/python/tf/keras/layers/Dropout)"
      ],
      "metadata": {
        "id": "DL3_7jWWbkyW"
      }
    },
    {
      "cell_type": "markdown",
      "source": [
        "<center><img src=\"https://i.postimg.cc/X7gv99M6/dropout.png\" width=\"400\"></center>\n",
        "\n",
        "**Dropout is a technique for preventing overfitting.** Dropout randomly selects a subset of neurons and turns them off, so that they do not participate in forward or backward propagation in that particular pass. This helps to make sure that the network is robust and redundant, and does not rely on any one area to come up with answers.    "
      ],
      "metadata": {
        "id": "xKZ3a_nIbkyW"
      }
    },
    {
      "cell_type": "markdown",
      "source": [
        "### [Flatten](https://www.tensorflow.org/api_docs/python/tf/keras/layers/Flatten)"
      ],
      "metadata": {
        "id": "WRNAlqpMbkyW"
      }
    },
    {
      "cell_type": "markdown",
      "source": [
        "**Flatten takes the output of one layer which is multidimensional, and flattens it into a one-dimensional array.** The output is called a **feature vector** and will be connected to the final classification layer."
      ],
      "metadata": {
        "id": "xpRQQEOkbkyW"
      }
    },
    {
      "cell_type": "markdown",
      "source": [
        "### [Dense](https://www.tensorflow.org/api_docs/python/tf/keras/layers/Dense)"
      ],
      "metadata": {
        "id": "AxzW0jkMbkyW"
      }
    },
    {
      "cell_type": "markdown",
      "source": [
        "Our first dense layer (512 units) **takes the feature vector as input** and learns which features will contribute to a particular classification. The second dense layer (24 units) is the **final classification layer** that outputs our prediction."
      ],
      "metadata": {
        "id": "x6SSeaZ5bkyX"
      }
    },
    {
      "cell_type": "markdown",
      "source": [
        "## Summarizing the Model"
      ],
      "metadata": {
        "id": "uy25eT0UbkyX"
      }
    },
    {
      "cell_type": "markdown",
      "source": [
        "Here, we summarize the model we just created. **Notice how it has fewer trainable parameters** than the model in the previous notebook:"
      ],
      "metadata": {
        "id": "w-qABBJabkyX"
      }
    },
    {
      "cell_type": "code",
      "source": [
        "model.summary()"
      ],
      "metadata": {
        "execution": {
          "iopub.status.busy": "2021-12-24T11:22:32.213226Z",
          "iopub.status.idle": "2021-12-24T11:22:32.213505Z",
          "shell.execute_reply.started": "2021-12-24T11:22:32.213366Z",
          "shell.execute_reply": "2021-12-24T11:22:32.213381Z"
        },
        "trusted": true,
        "id": "AirAae7YbkyX",
        "colab": {
          "base_uri": "https://localhost:8080/"
        },
        "outputId": "97efa2ef-4c2f-4925-a225-da3e4129304e"
      },
      "execution_count": 8,
      "outputs": [
        {
          "output_type": "stream",
          "name": "stdout",
          "text": [
            "Model: \"sequential\"\n",
            "_________________________________________________________________\n",
            " Layer (type)                Output Shape              Param #   \n",
            "=================================================================\n",
            " conv2d (Conv2D)             (None, 28, 28, 75)        750       \n",
            "                                                                 \n",
            " batch_normalization (BatchN  (None, 28, 28, 75)       300       \n",
            " ormalization)                                                   \n",
            "                                                                 \n",
            " max_pooling2d (MaxPooling2D  (None, 14, 14, 75)       0         \n",
            " )                                                               \n",
            "                                                                 \n",
            " conv2d_1 (Conv2D)           (None, 14, 14, 50)        33800     \n",
            "                                                                 \n",
            " dropout (Dropout)           (None, 14, 14, 50)        0         \n",
            "                                                                 \n",
            " batch_normalization_1 (Batc  (None, 14, 14, 50)       200       \n",
            " hNormalization)                                                 \n",
            "                                                                 \n",
            " max_pooling2d_1 (MaxPooling  (None, 7, 7, 50)         0         \n",
            " 2D)                                                             \n",
            "                                                                 \n",
            " conv2d_2 (Conv2D)           (None, 7, 7, 25)          11275     \n",
            "                                                                 \n",
            " batch_normalization_2 (Batc  (None, 7, 7, 25)         100       \n",
            " hNormalization)                                                 \n",
            "                                                                 \n",
            " max_pooling2d_2 (MaxPooling  (None, 4, 4, 25)         0         \n",
            " 2D)                                                             \n",
            "                                                                 \n",
            " flatten (Flatten)           (None, 400)               0         \n",
            "                                                                 \n",
            " dense (Dense)               (None, 512)               205312    \n",
            "                                                                 \n",
            " dropout_1 (Dropout)         (None, 512)               0         \n",
            "                                                                 \n",
            " dense_1 (Dense)             (None, 24)                12312     \n",
            "                                                                 \n",
            "=================================================================\n",
            "Total params: 264,049\n",
            "Trainable params: 263,749\n",
            "Non-trainable params: 300\n",
            "_________________________________________________________________\n"
          ]
        }
      ]
    },
    {
      "cell_type": "markdown",
      "source": [
        "## Compiling the Model"
      ],
      "metadata": {
        "id": "3uZD9z8obkyY"
      }
    },
    {
      "cell_type": "markdown",
      "source": [
        "We'll compile the model just like before:"
      ],
      "metadata": {
        "id": "jH1Qya1wbkyY"
      }
    },
    {
      "cell_type": "code",
      "source": [
        "model.compile(loss=\"categorical_crossentropy\", metrics=[\"accuracy\"])"
      ],
      "metadata": {
        "execution": {
          "iopub.status.busy": "2021-12-24T11:22:32.214347Z",
          "iopub.status.idle": "2021-12-24T11:22:32.214614Z",
          "shell.execute_reply.started": "2021-12-24T11:22:32.214472Z",
          "shell.execute_reply": "2021-12-24T11:22:32.214487Z"
        },
        "trusted": true,
        "id": "Wdw_YA-KbkyY"
      },
      "execution_count": 9,
      "outputs": []
    },
    {
      "cell_type": "markdown",
      "source": [
        "## Training the Model"
      ],
      "metadata": {
        "id": "jbbh1bz0bkyY"
      }
    },
    {
      "cell_type": "markdown",
      "source": [
        "**Despite the very different model architecture, the training looks exactly the same.** The cell below will train for 20 epochs and let's see if the accuracy improves:"
      ],
      "metadata": {
        "id": "4SgBn1ribkyZ"
      }
    },
    {
      "cell_type": "code",
      "source": [
        "model.fit(x_train, y_train, epochs=20, verbose=1, validation_data=(x_valid, y_valid))"
      ],
      "metadata": {
        "execution": {
          "iopub.status.busy": "2021-12-24T11:22:32.215392Z",
          "iopub.status.idle": "2021-12-24T11:22:32.215656Z",
          "shell.execute_reply.started": "2021-12-24T11:22:32.215521Z",
          "shell.execute_reply": "2021-12-24T11:22:32.215536Z"
        },
        "trusted": true,
        "id": "7ddoefjdbkyZ",
        "colab": {
          "base_uri": "https://localhost:8080/"
        },
        "outputId": "781fd5f3-e4af-4081-f5a6-d820217a89bc"
      },
      "execution_count": 10,
      "outputs": [
        {
          "output_type": "stream",
          "name": "stdout",
          "text": [
            "Epoch 1/20\n",
            "858/858 [==============================] - 71s 81ms/step - loss: 0.3032 - accuracy: 0.9085 - val_loss: 0.3312 - val_accuracy: 0.8928\n",
            "Epoch 2/20\n",
            "858/858 [==============================] - 65s 75ms/step - loss: 0.0167 - accuracy: 0.9944 - val_loss: 0.1648 - val_accuracy: 0.9600\n",
            "Epoch 3/20\n",
            "858/858 [==============================] - 64s 75ms/step - loss: 0.0093 - accuracy: 0.9973 - val_loss: 0.6309 - val_accuracy: 0.8868\n",
            "Epoch 4/20\n",
            "858/858 [==============================] - 64s 74ms/step - loss: 0.0058 - accuracy: 0.9982 - val_loss: 0.2201 - val_accuracy: 0.9488\n",
            "Epoch 5/20\n",
            "858/858 [==============================] - 64s 74ms/step - loss: 0.0042 - accuracy: 0.9988 - val_loss: 1.2172 - val_accuracy: 0.8093\n",
            "Epoch 6/20\n",
            "858/858 [==============================] - 64s 74ms/step - loss: 0.0051 - accuracy: 0.9987 - val_loss: 0.2997 - val_accuracy: 0.9541\n",
            "Epoch 7/20\n",
            "858/858 [==============================] - 64s 75ms/step - loss: 0.0059 - accuracy: 0.9987 - val_loss: 0.2704 - val_accuracy: 0.9674\n",
            "Epoch 8/20\n",
            "858/858 [==============================] - 64s 74ms/step - loss: 0.0043 - accuracy: 0.9988 - val_loss: 0.2607 - val_accuracy: 0.9600\n",
            "Epoch 9/20\n",
            "858/858 [==============================] - 64s 75ms/step - loss: 0.0033 - accuracy: 0.9990 - val_loss: 0.2736 - val_accuracy: 0.9639\n",
            "Epoch 10/20\n",
            "858/858 [==============================] - 64s 74ms/step - loss: 0.0021 - accuracy: 0.9993 - val_loss: 0.4490 - val_accuracy: 0.9619\n",
            "Epoch 11/20\n",
            "858/858 [==============================] - 64s 74ms/step - loss: 0.0027 - accuracy: 0.9995 - val_loss: 0.3888 - val_accuracy: 0.9558\n",
            "Epoch 12/20\n",
            "858/858 [==============================] - 64s 74ms/step - loss: 0.0014 - accuracy: 0.9995 - val_loss: 0.4563 - val_accuracy: 0.9467\n",
            "Epoch 13/20\n",
            "858/858 [==============================] - 63s 74ms/step - loss: 0.0013 - accuracy: 0.9996 - val_loss: 0.2640 - val_accuracy: 0.9649\n",
            "Epoch 14/20\n",
            "858/858 [==============================] - 64s 74ms/step - loss: 0.0014 - accuracy: 0.9996 - val_loss: 0.3589 - val_accuracy: 0.9568\n",
            "Epoch 15/20\n",
            "858/858 [==============================] - 63s 74ms/step - loss: 0.0013 - accuracy: 0.9996 - val_loss: 0.5437 - val_accuracy: 0.9453\n",
            "Epoch 16/20\n",
            "858/858 [==============================] - 63s 74ms/step - loss: 0.0014 - accuracy: 0.9996 - val_loss: 0.3159 - val_accuracy: 0.9576\n",
            "Epoch 17/20\n",
            "858/858 [==============================] - 63s 74ms/step - loss: 0.0014 - accuracy: 0.9997 - val_loss: 0.3303 - val_accuracy: 0.9640\n",
            "Epoch 18/20\n",
            "858/858 [==============================] - 63s 74ms/step - loss: 0.0018 - accuracy: 0.9996 - val_loss: 0.3037 - val_accuracy: 0.9657\n",
            "Epoch 19/20\n",
            "858/858 [==============================] - 64s 74ms/step - loss: 0.0021 - accuracy: 0.9997 - val_loss: 0.3691 - val_accuracy: 0.9626\n",
            "Epoch 20/20\n",
            "858/858 [==============================] - 63s 74ms/step - loss: 0.0016 - accuracy: 0.9996 - val_loss: 0.4297 - val_accuracy: 0.9582\n"
          ]
        },
        {
          "output_type": "execute_result",
          "data": {
            "text/plain": [
              "<keras.callbacks.History at 0x7fa5d8e65b90>"
            ]
          },
          "metadata": {},
          "execution_count": 10
        }
      ]
    },
    {
      "cell_type": "markdown",
      "source": [
        "## Discussion of Results"
      ],
      "metadata": {
        "id": "UmaT2jJJbkya"
      }
    },
    {
      "cell_type": "markdown",
      "source": [
        "It looks like this model has significantly improved! **The training accuracy is very high, and the validation accuracy has improved as well.** This is a great result, as all we had to do was swap in a new model.\n",
        "\n",
        "You may have noticed **the validation accuracy jumping around.** This is an indication that our **model is still not generalizing perfectly.** "
      ],
      "metadata": {
        "id": "0LwrU7rDbkyb"
      }
    },
    {
      "cell_type": "markdown",
      "source": [
        "## Summary"
      ],
      "metadata": {
        "id": "aawWvwc6bkyb"
      }
    },
    {
      "cell_type": "markdown",
      "source": [
        "In this section, we utilized several new kinds of layers to implement a CNN, which performed better than the more simple model used in the last section. Hopefully the overall process of creating and training a model with prepared data is starting to become even more familiar."
      ],
      "metadata": {
        "id": "6Y4bWTKMbkyb"
      }
    },
    {
      "cell_type": "markdown",
      "source": [
        "<hr>\n",
        "\n",
        "**Source**: [NVIDIA Deep Learning Institute](https://www.nvidia.com/en-us/training/)\n",
        "\n",
        "<hr>"
      ],
      "metadata": {
        "id": "7m-uKQHSbill"
      }
    }
  ]
}