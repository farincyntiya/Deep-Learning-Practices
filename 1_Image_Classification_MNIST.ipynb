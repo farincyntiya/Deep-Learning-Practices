{
  "metadata": {
    "kernelspec": {
      "language": "python",
      "display_name": "Python 3",
      "name": "python3"
    },
    "language_info": {
      "pygments_lexer": "ipython3",
      "nbconvert_exporter": "python",
      "version": "3.6.4",
      "file_extension": ".py",
      "codemirror_mode": {
        "name": "ipython",
        "version": 3
      },
      "name": "python",
      "mimetype": "text/x-python"
    },
    "colab": {
      "name": "1_Image_Classification_MNIST.ipynb",
      "provenance": [],
      "collapsed_sections": []
    }
  },
  "nbformat_minor": 0,
  "nbformat": 4,
  "cells": [
    {
      "cell_type": "markdown",
      "source": [
        "# **Image Classification with the MNIST Dataset**"
      ],
      "metadata": {
        "id": "mTq1H1zvw4B4"
      }
    },
    {
      "cell_type": "markdown",
      "source": [
        "In this section, we will do the \"Hello World\" of deep learning: training a deep learning model to correctly classify hand-written digits."
      ],
      "metadata": {
        "id": "9BDrSQRNw4B5"
      }
    },
    {
      "cell_type": "markdown",
      "source": [
        "## Objectives"
      ],
      "metadata": {
        "id": "WKuzirL_w4B5"
      }
    },
    {
      "cell_type": "markdown",
      "source": [
        "* Understand how deep learning can solve problems traditional programming methods cannot\n",
        "* Learn about the [MNSIT handwritten digits dataset](http://yann.lecun.com/exdb/mnist/)\n",
        "* Use the [Keras API](https://keras.io/) to load the MNIST dataset and prepare it for training\n",
        "* Create a simple neural network to perform image classification\n",
        "* Train the neural network using the prepped MNIST dataset\n",
        "* Observe the performance of the trained neural network"
      ],
      "metadata": {
        "id": "Drhzu-Odw4B6"
      }
    },
    {
      "cell_type": "markdown",
      "source": [
        "## The Problem: Image Classification"
      ],
      "metadata": {
        "id": "l0NwmvXcw4B7"
      }
    },
    {
      "cell_type": "markdown",
      "source": [
        "In traditional programming, the programmer is able to articulate rules and conditions in their code that their program can then use to act in the correct way. This approach continues to work exceptionally well for a huge variety of problems.\n",
        "\n",
        "Image classification, which asks a program to correctly classify an image it has never seen before into its correct class, is near impossible to solve with traditional programming techniques. How could a programmer possibly define the rules and conditions to correctly classify a huge variety of images, especially taking into account images that they have never seen?"
      ],
      "metadata": {
        "id": "Yc2zhPNvw4B7"
      }
    },
    {
      "cell_type": "markdown",
      "source": [
        "## The Solution: Deep Learning"
      ],
      "metadata": {
        "id": "i6Ps5_mxw4B_"
      }
    },
    {
      "cell_type": "markdown",
      "source": [
        "Deep learning excels at pattern recognition by trial and error. By training a deep neural network with sufficient data, and providing the network with feedback on its performance via training, the network can identify, though a huge amount of iteration, its own set of conditions by which it can act in the correct way."
      ],
      "metadata": {
        "id": "bvMBuUV_w4B_"
      }
    },
    {
      "cell_type": "markdown",
      "source": [
        "## The MNIST Dataset"
      ],
      "metadata": {
        "id": "U0ALHYhuw4CA"
      }
    },
    {
      "cell_type": "markdown",
      "source": [
        "In the history of deep learning, the accurate image classification of the [MNSIT dataset](http://yann.lecun.com/exdb/mnist/), a collection of 70,000 grayscale images of handwritten digits from 0 to 9, was a major development. While today the problem is considered trivial, doing image classification with MNIST has become a kind of \"Hello World\" for deep learning.\n",
        "\n",
        "Here are 40 of the images included in the MNIST dataset:"
      ],
      "metadata": {
        "id": "35s_WThww4CB"
      }
    },
    {
      "cell_type": "markdown",
      "source": [
        " <center><img src=\"https://i.postimg.cc/SxxzmLjx/mnist-data.png\" width=\"600\" height=\"250\"></center>"
      ],
      "metadata": {
        "id": "TVm_ZoUxkyLx"
      }
    },
    {
      "cell_type": "markdown",
      "source": [
        "## Training and Validation Data and Labels"
      ],
      "metadata": {
        "id": "UUaFlaVRw4CC"
      }
    },
    {
      "cell_type": "markdown",
      "source": [
        "When working with images for deep learning, we need both the images themselves, usually denoted as `X`, and also, correct [labels](https://developers.google.com/machine-learning/glossary#label) for these images, usually denoted as `Y`. Furthermore, we need `X` and `Y` values both for *training* the model, and then, a separate set of `X` and `Y` values for *validating* the performance of the model after it has been trained. Therefore, we need 4 segments of data for the MNIST dataset:\n",
        "\n",
        "1. `x_train`: Images used for training the neural network\n",
        "2. `y_train`: Correct labels for the `x_train` images, used to evaluate the model's predictions during training\n",
        "3. `x_valid`: Images set aside for validating the performance of the model after it has been trained\n",
        "4. `y_valid`: Correct labels for the `x_valid` images, used to evaluate the model's predictions after it has been trained\n",
        "\n",
        "The process of preparing data for analysis is called [Data Engineering](https://medium.com/@rchang/a-beginners-guide-to-data-engineering-part-i-4227c5c457d7). To learn more about the differences between training data and validation data (as well as test data), check out [this article](https://machinelearningmastery.com/difference-test-validation-datasets/) by Jason Brownlee."
      ],
      "metadata": {
        "id": "9ZiQAy8Fw4CC"
      }
    },
    {
      "cell_type": "markdown",
      "source": [
        "## Loading the Data Into Memory (with Keras)"
      ],
      "metadata": {
        "id": "noPt2Traw4CD"
      }
    },
    {
      "cell_type": "markdown",
      "source": [
        "There are many [deep learning frameworks](https://developer.nvidia.com/deep-learning-frameworks), each with their own merits. In this workshop we will be working with [Tensorflow 2](https://www.tensorflow.org/tutorials/quickstart/beginner), and specifically with the [Keras API](https://keras.io/). Keras has many useful built in functions designed for the computer vision tasks. It is also a legitimate choice for deep learning in a professional setting due to its [readability](https://blog.pragmaticengineer.com/readable-code/) and efficiency, though it is not alone in this regard, and it is worth investigating a variety of frameworks when beginning a deep learning project.\n",
        "\n",
        "One of the many helpful features that Keras provides are modules containing many helper methods for [many common datasets](https://www.tensorflow.org/api_docs/python/tf/keras/datasets), including MNIST.\n",
        "\n",
        "We will begin by loading the Keras dataset module for MNIST:"
      ],
      "metadata": {
        "id": "W573xodRw4CD"
      }
    },
    {
      "cell_type": "code",
      "source": [
        "from tensorflow.keras.datasets import mnist"
      ],
      "metadata": {
        "execution": {
          "iopub.status.busy": "2021-12-24T07:28:21.765239Z",
          "iopub.execute_input": "2021-12-24T07:28:21.765657Z",
          "iopub.status.idle": "2021-12-24T07:28:28.888779Z",
          "shell.execute_reply.started": "2021-12-24T07:28:21.765555Z",
          "shell.execute_reply": "2021-12-24T07:28:28.887621Z"
        },
        "trusted": true,
        "id": "HguDkNZxw4CE"
      },
      "execution_count": 1,
      "outputs": []
    },
    {
      "cell_type": "markdown",
      "source": [
        "With the `mnist` module, we can easily load the MNIST data, already partitioned into images and labels for both training and validation:"
      ],
      "metadata": {
        "id": "1pQy1Cd0w4CF"
      }
    },
    {
      "cell_type": "code",
      "source": [
        "# the data, split between train and validation sets\n",
        "(x_train, y_train), (x_valid, y_valid) = mnist.load_data()"
      ],
      "metadata": {
        "execution": {
          "iopub.status.busy": "2021-12-24T07:28:28.890321Z",
          "iopub.execute_input": "2021-12-24T07:28:28.890565Z",
          "iopub.status.idle": "2021-12-24T07:28:29.701566Z",
          "shell.execute_reply.started": "2021-12-24T07:28:28.890533Z",
          "shell.execute_reply": "2021-12-24T07:28:29.700547Z"
        },
        "trusted": true,
        "id": "vMf81LXXw4CG",
        "colab": {
          "base_uri": "https://localhost:8080/"
        },
        "outputId": "51da2010-2678-46c6-987a-74f5829b0fab"
      },
      "execution_count": 2,
      "outputs": [
        {
          "output_type": "stream",
          "name": "stdout",
          "text": [
            "Downloading data from https://storage.googleapis.com/tensorflow/tf-keras-datasets/mnist.npz\n",
            "11493376/11490434 [==============================] - 0s 0us/step\n",
            "11501568/11490434 [==============================] - 0s 0us/step\n"
          ]
        }
      ]
    },
    {
      "cell_type": "markdown",
      "source": [
        "## Exploring the MNIST Data"
      ],
      "metadata": {
        "id": "nyO-3Macw4CG"
      }
    },
    {
      "cell_type": "markdown",
      "source": [
        "We stated above that **the MNIST dataset contained 70,000 grayscale images of handwritten digits.** By executing the following cells, we can see that **Keras has partitioned 60,000 of these images for training, and 10,000 for validation (after training)**, and also, that each image itself is a **2D array with the dimensions 28x28**:"
      ],
      "metadata": {
        "id": "aiw6Z5syw4CH"
      }
    },
    {
      "cell_type": "code",
      "source": [
        "x_train.shape"
      ],
      "metadata": {
        "execution": {
          "iopub.status.busy": "2021-12-24T07:28:29.703042Z",
          "iopub.execute_input": "2021-12-24T07:28:29.703317Z",
          "iopub.status.idle": "2021-12-24T07:28:29.71545Z",
          "shell.execute_reply.started": "2021-12-24T07:28:29.703284Z",
          "shell.execute_reply": "2021-12-24T07:28:29.71456Z"
        },
        "trusted": true,
        "id": "MERdzSfsw4CH",
        "colab": {
          "base_uri": "https://localhost:8080/"
        },
        "outputId": "20041309-964f-43a1-ec03-63b1a6a4faf2"
      },
      "execution_count": 3,
      "outputs": [
        {
          "output_type": "execute_result",
          "data": {
            "text/plain": [
              "(60000, 28, 28)"
            ]
          },
          "metadata": {},
          "execution_count": 3
        }
      ]
    },
    {
      "cell_type": "code",
      "source": [
        "x_valid.shape"
      ],
      "metadata": {
        "execution": {
          "iopub.status.busy": "2021-12-24T07:28:29.717866Z",
          "iopub.execute_input": "2021-12-24T07:28:29.718214Z",
          "iopub.status.idle": "2021-12-24T07:28:29.728008Z",
          "shell.execute_reply.started": "2021-12-24T07:28:29.71818Z",
          "shell.execute_reply": "2021-12-24T07:28:29.726775Z"
        },
        "trusted": true,
        "id": "FigU8Aduw4CI",
        "colab": {
          "base_uri": "https://localhost:8080/"
        },
        "outputId": "97a10371-2217-4ace-e3a6-e792535d703b"
      },
      "execution_count": 4,
      "outputs": [
        {
          "output_type": "execute_result",
          "data": {
            "text/plain": [
              "(10000, 28, 28)"
            ]
          },
          "metadata": {},
          "execution_count": 4
        }
      ]
    },
    {
      "cell_type": "markdown",
      "source": [
        "Furthermore, we can see that these 28x28 images are represented as a collection of **unsigned 8-bit integer values between 0 and 255**, the values corresponding with a **pixel's grayscale value where `0` is black, `255` is white, and all other values are in between**:"
      ],
      "metadata": {
        "id": "per1G_Mgw4CI"
      }
    },
    {
      "cell_type": "code",
      "source": [
        "x_train.dtype"
      ],
      "metadata": {
        "execution": {
          "iopub.status.busy": "2021-12-24T07:28:29.732158Z",
          "iopub.execute_input": "2021-12-24T07:28:29.732427Z",
          "iopub.status.idle": "2021-12-24T07:28:29.739651Z",
          "shell.execute_reply.started": "2021-12-24T07:28:29.732396Z",
          "shell.execute_reply": "2021-12-24T07:28:29.738594Z"
        },
        "trusted": true,
        "id": "Ipg5q4Jzw4CJ",
        "colab": {
          "base_uri": "https://localhost:8080/"
        },
        "outputId": "4d1bd860-8c9a-4a6a-dec3-1298f5673f92"
      },
      "execution_count": 5,
      "outputs": [
        {
          "output_type": "execute_result",
          "data": {
            "text/plain": [
              "dtype('uint8')"
            ]
          },
          "metadata": {},
          "execution_count": 5
        }
      ]
    },
    {
      "cell_type": "code",
      "source": [
        "x_train.min()"
      ],
      "metadata": {
        "execution": {
          "iopub.status.busy": "2021-12-24T07:28:29.740992Z",
          "iopub.execute_input": "2021-12-24T07:28:29.74132Z",
          "iopub.status.idle": "2021-12-24T07:28:29.807714Z",
          "shell.execute_reply.started": "2021-12-24T07:28:29.741287Z",
          "shell.execute_reply": "2021-12-24T07:28:29.806396Z"
        },
        "trusted": true,
        "id": "6a0m0eLrw4CJ",
        "colab": {
          "base_uri": "https://localhost:8080/"
        },
        "outputId": "c50d0e9e-dd01-426d-c13d-35dc8d804c89"
      },
      "execution_count": 6,
      "outputs": [
        {
          "output_type": "execute_result",
          "data": {
            "text/plain": [
              "0"
            ]
          },
          "metadata": {},
          "execution_count": 6
        }
      ]
    },
    {
      "cell_type": "code",
      "source": [
        "x_train.max()"
      ],
      "metadata": {
        "execution": {
          "iopub.status.busy": "2021-12-24T07:28:29.809339Z",
          "iopub.execute_input": "2021-12-24T07:28:29.809605Z",
          "iopub.status.idle": "2021-12-24T07:28:29.854299Z",
          "shell.execute_reply.started": "2021-12-24T07:28:29.809573Z",
          "shell.execute_reply": "2021-12-24T07:28:29.853232Z"
        },
        "trusted": true,
        "id": "03etWKivw4CJ",
        "colab": {
          "base_uri": "https://localhost:8080/"
        },
        "outputId": "e5a91708-8f07-41f0-c38c-2bf29bd09f93"
      },
      "execution_count": 7,
      "outputs": [
        {
          "output_type": "execute_result",
          "data": {
            "text/plain": [
              "255"
            ]
          },
          "metadata": {},
          "execution_count": 7
        }
      ]
    },
    {
      "cell_type": "code",
      "source": [
        "x_train[0]"
      ],
      "metadata": {
        "execution": {
          "iopub.status.busy": "2021-12-24T07:28:29.855572Z",
          "iopub.execute_input": "2021-12-24T07:28:29.855896Z",
          "iopub.status.idle": "2021-12-24T07:28:29.864895Z",
          "shell.execute_reply.started": "2021-12-24T07:28:29.855864Z",
          "shell.execute_reply": "2021-12-24T07:28:29.863926Z"
        },
        "trusted": true,
        "id": "SxxHKuFCw4CJ",
        "colab": {
          "base_uri": "https://localhost:8080/"
        },
        "outputId": "2b5b4e62-0ad8-4138-f1ea-3cacdf273bcd"
      },
      "execution_count": 8,
      "outputs": [
        {
          "output_type": "execute_result",
          "data": {
            "text/plain": [
              "array([[  0,   0,   0,   0,   0,   0,   0,   0,   0,   0,   0,   0,   0,\n",
              "          0,   0,   0,   0,   0,   0,   0,   0,   0,   0,   0,   0,   0,\n",
              "          0,   0],\n",
              "       [  0,   0,   0,   0,   0,   0,   0,   0,   0,   0,   0,   0,   0,\n",
              "          0,   0,   0,   0,   0,   0,   0,   0,   0,   0,   0,   0,   0,\n",
              "          0,   0],\n",
              "       [  0,   0,   0,   0,   0,   0,   0,   0,   0,   0,   0,   0,   0,\n",
              "          0,   0,   0,   0,   0,   0,   0,   0,   0,   0,   0,   0,   0,\n",
              "          0,   0],\n",
              "       [  0,   0,   0,   0,   0,   0,   0,   0,   0,   0,   0,   0,   0,\n",
              "          0,   0,   0,   0,   0,   0,   0,   0,   0,   0,   0,   0,   0,\n",
              "          0,   0],\n",
              "       [  0,   0,   0,   0,   0,   0,   0,   0,   0,   0,   0,   0,   0,\n",
              "          0,   0,   0,   0,   0,   0,   0,   0,   0,   0,   0,   0,   0,\n",
              "          0,   0],\n",
              "       [  0,   0,   0,   0,   0,   0,   0,   0,   0,   0,   0,   0,   3,\n",
              "         18,  18,  18, 126, 136, 175,  26, 166, 255, 247, 127,   0,   0,\n",
              "          0,   0],\n",
              "       [  0,   0,   0,   0,   0,   0,   0,   0,  30,  36,  94, 154, 170,\n",
              "        253, 253, 253, 253, 253, 225, 172, 253, 242, 195,  64,   0,   0,\n",
              "          0,   0],\n",
              "       [  0,   0,   0,   0,   0,   0,   0,  49, 238, 253, 253, 253, 253,\n",
              "        253, 253, 253, 253, 251,  93,  82,  82,  56,  39,   0,   0,   0,\n",
              "          0,   0],\n",
              "       [  0,   0,   0,   0,   0,   0,   0,  18, 219, 253, 253, 253, 253,\n",
              "        253, 198, 182, 247, 241,   0,   0,   0,   0,   0,   0,   0,   0,\n",
              "          0,   0],\n",
              "       [  0,   0,   0,   0,   0,   0,   0,   0,  80, 156, 107, 253, 253,\n",
              "        205,  11,   0,  43, 154,   0,   0,   0,   0,   0,   0,   0,   0,\n",
              "          0,   0],\n",
              "       [  0,   0,   0,   0,   0,   0,   0,   0,   0,  14,   1, 154, 253,\n",
              "         90,   0,   0,   0,   0,   0,   0,   0,   0,   0,   0,   0,   0,\n",
              "          0,   0],\n",
              "       [  0,   0,   0,   0,   0,   0,   0,   0,   0,   0,   0, 139, 253,\n",
              "        190,   2,   0,   0,   0,   0,   0,   0,   0,   0,   0,   0,   0,\n",
              "          0,   0],\n",
              "       [  0,   0,   0,   0,   0,   0,   0,   0,   0,   0,   0,  11, 190,\n",
              "        253,  70,   0,   0,   0,   0,   0,   0,   0,   0,   0,   0,   0,\n",
              "          0,   0],\n",
              "       [  0,   0,   0,   0,   0,   0,   0,   0,   0,   0,   0,   0,  35,\n",
              "        241, 225, 160, 108,   1,   0,   0,   0,   0,   0,   0,   0,   0,\n",
              "          0,   0],\n",
              "       [  0,   0,   0,   0,   0,   0,   0,   0,   0,   0,   0,   0,   0,\n",
              "         81, 240, 253, 253, 119,  25,   0,   0,   0,   0,   0,   0,   0,\n",
              "          0,   0],\n",
              "       [  0,   0,   0,   0,   0,   0,   0,   0,   0,   0,   0,   0,   0,\n",
              "          0,  45, 186, 253, 253, 150,  27,   0,   0,   0,   0,   0,   0,\n",
              "          0,   0],\n",
              "       [  0,   0,   0,   0,   0,   0,   0,   0,   0,   0,   0,   0,   0,\n",
              "          0,   0,  16,  93, 252, 253, 187,   0,   0,   0,   0,   0,   0,\n",
              "          0,   0],\n",
              "       [  0,   0,   0,   0,   0,   0,   0,   0,   0,   0,   0,   0,   0,\n",
              "          0,   0,   0,   0, 249, 253, 249,  64,   0,   0,   0,   0,   0,\n",
              "          0,   0],\n",
              "       [  0,   0,   0,   0,   0,   0,   0,   0,   0,   0,   0,   0,   0,\n",
              "          0,  46, 130, 183, 253, 253, 207,   2,   0,   0,   0,   0,   0,\n",
              "          0,   0],\n",
              "       [  0,   0,   0,   0,   0,   0,   0,   0,   0,   0,   0,   0,  39,\n",
              "        148, 229, 253, 253, 253, 250, 182,   0,   0,   0,   0,   0,   0,\n",
              "          0,   0],\n",
              "       [  0,   0,   0,   0,   0,   0,   0,   0,   0,   0,  24, 114, 221,\n",
              "        253, 253, 253, 253, 201,  78,   0,   0,   0,   0,   0,   0,   0,\n",
              "          0,   0],\n",
              "       [  0,   0,   0,   0,   0,   0,   0,   0,  23,  66, 213, 253, 253,\n",
              "        253, 253, 198,  81,   2,   0,   0,   0,   0,   0,   0,   0,   0,\n",
              "          0,   0],\n",
              "       [  0,   0,   0,   0,   0,   0,  18, 171, 219, 253, 253, 253, 253,\n",
              "        195,  80,   9,   0,   0,   0,   0,   0,   0,   0,   0,   0,   0,\n",
              "          0,   0],\n",
              "       [  0,   0,   0,   0,  55, 172, 226, 253, 253, 253, 253, 244, 133,\n",
              "         11,   0,   0,   0,   0,   0,   0,   0,   0,   0,   0,   0,   0,\n",
              "          0,   0],\n",
              "       [  0,   0,   0,   0, 136, 253, 253, 253, 212, 135, 132,  16,   0,\n",
              "          0,   0,   0,   0,   0,   0,   0,   0,   0,   0,   0,   0,   0,\n",
              "          0,   0],\n",
              "       [  0,   0,   0,   0,   0,   0,   0,   0,   0,   0,   0,   0,   0,\n",
              "          0,   0,   0,   0,   0,   0,   0,   0,   0,   0,   0,   0,   0,\n",
              "          0,   0],\n",
              "       [  0,   0,   0,   0,   0,   0,   0,   0,   0,   0,   0,   0,   0,\n",
              "          0,   0,   0,   0,   0,   0,   0,   0,   0,   0,   0,   0,   0,\n",
              "          0,   0],\n",
              "       [  0,   0,   0,   0,   0,   0,   0,   0,   0,   0,   0,   0,   0,\n",
              "          0,   0,   0,   0,   0,   0,   0,   0,   0,   0,   0,   0,   0,\n",
              "          0,   0]], dtype=uint8)"
            ]
          },
          "metadata": {},
          "execution_count": 8
        }
      ]
    },
    {
      "cell_type": "markdown",
      "source": [
        "Using [Matplotlib](https://matplotlib.org/), we can render one of these grayscale images in our dataset:"
      ],
      "metadata": {
        "id": "oAqt0djNw4CK"
      }
    },
    {
      "cell_type": "code",
      "source": [
        "import matplotlib.pyplot as plt\n",
        "\n",
        "image = x_train[0]\n",
        "plt.imshow(image, cmap='gray')"
      ],
      "metadata": {
        "execution": {
          "iopub.status.busy": "2021-12-24T07:28:29.865813Z",
          "iopub.execute_input": "2021-12-24T07:28:29.866033Z",
          "iopub.status.idle": "2021-12-24T07:28:30.142133Z",
          "shell.execute_reply.started": "2021-12-24T07:28:29.866005Z",
          "shell.execute_reply": "2021-12-24T07:28:30.141205Z"
        },
        "trusted": true,
        "id": "EA61GlZiw4CK",
        "colab": {
          "base_uri": "https://localhost:8080/",
          "height": 283
        },
        "outputId": "2d5552a5-9658-4036-e734-5599238b293b"
      },
      "execution_count": 9,
      "outputs": [
        {
          "output_type": "execute_result",
          "data": {
            "text/plain": [
              "<matplotlib.image.AxesImage at 0x7f3b76ca5a10>"
            ]
          },
          "metadata": {},
          "execution_count": 9
        },
        {
          "output_type": "display_data",
          "data": {
            "image/png": "[encoded data removed]",
            "text/plain": [
              "<Figure size 432x288 with 1 Axes>"
            ]
          },
          "metadata": {
            "needs_background": "light"
          }
        }
      ]
    },
    {
      "cell_type": "markdown",
      "source": [
        "In this way we can now see that this is a 28x28 pixel image of a 5. Or is it a 3? **The answer is in the `y_train` data, which contains correct labels for the data.** Let's take a look:"
      ],
      "metadata": {
        "id": "82SwnZDCw4CK"
      }
    },
    {
      "cell_type": "code",
      "source": [
        "y_train[0]"
      ],
      "metadata": {
        "execution": {
          "iopub.status.busy": "2021-12-24T07:28:30.145299Z",
          "iopub.execute_input": "2021-12-24T07:28:30.145574Z",
          "iopub.status.idle": "2021-12-24T07:28:30.151556Z",
          "shell.execute_reply.started": "2021-12-24T07:28:30.145534Z",
          "shell.execute_reply": "2021-12-24T07:28:30.150535Z"
        },
        "trusted": true,
        "id": "8biv6L0Gw4CK",
        "colab": {
          "base_uri": "https://localhost:8080/"
        },
        "outputId": "86ea4a18-fe7c-4884-f088-75e5a3b4ecf3"
      },
      "execution_count": 10,
      "outputs": [
        {
          "output_type": "execute_result",
          "data": {
            "text/plain": [
              "5"
            ]
          },
          "metadata": {},
          "execution_count": 10
        }
      ]
    },
    {
      "cell_type": "markdown",
      "source": [
        "## Preparing the Data for Training"
      ],
      "metadata": {
        "id": "b-N647bmw4CL"
      }
    },
    {
      "cell_type": "markdown",
      "source": [
        "In deep learning, it is common that **data needs to be transformed to be in the ideal state for training.** For this particular image classification problem, there are 3 tasks we should perform with the data in preparation for training:\n",
        "1. **Flatten** the image data, to simplify the image input into the model\n",
        "2. **Normalize** the image data, to make the image input values easier to work with for the model\n",
        "3. **Categorize** the labels, to make the label values easier to work with for the model"
      ],
      "metadata": {
        "id": "idRe_WsDw4CL"
      }
    },
    {
      "cell_type": "markdown",
      "source": [
        "### Flattening the Image Data"
      ],
      "metadata": {
        "id": "a93HUSySw4CL"
      }
    },
    {
      "cell_type": "markdown",
      "source": [
        "Though it's possible for a deep learning model to accept a 2-dimensional image (in our case 28x28 pixels), we're going to simplify things to start and [reshape](https://www.tensorflow.org/api_docs/python/tf/reshape) each image into a single array of 784 continuous pixels (note: 28x28 = 784). This is also called flattening the image.\n",
        "\n",
        "Here we accomplish this using the helper method `reshape`:"
      ],
      "metadata": {
        "id": "WTsbY73Zw4CL"
      }
    },
    {
      "cell_type": "code",
      "source": [
        "x_train = x_train.reshape(60000, 784)\n",
        "x_valid = x_valid.reshape(10000, 784)"
      ],
      "metadata": {
        "execution": {
          "iopub.status.busy": "2021-12-24T07:28:30.15291Z",
          "iopub.execute_input": "2021-12-24T07:28:30.153265Z",
          "iopub.status.idle": "2021-12-24T07:28:30.163018Z",
          "shell.execute_reply.started": "2021-12-24T07:28:30.153223Z",
          "shell.execute_reply": "2021-12-24T07:28:30.16187Z"
        },
        "trusted": true,
        "id": "gA-Lh_B9w4CL"
      },
      "execution_count": 11,
      "outputs": []
    },
    {
      "cell_type": "markdown",
      "source": [
        "We can confirm that the image data has been reshaped and is now a collection of **1D arrays containing 784 pixel values each**:"
      ],
      "metadata": {
        "id": "rU5qLXMRw4CM"
      }
    },
    {
      "cell_type": "code",
      "source": [
        "x_train.shape"
      ],
      "metadata": {
        "execution": {
          "iopub.status.busy": "2021-12-24T07:28:30.164214Z",
          "iopub.execute_input": "2021-12-24T07:28:30.164439Z",
          "iopub.status.idle": "2021-12-24T07:28:30.178766Z",
          "shell.execute_reply.started": "2021-12-24T07:28:30.16441Z",
          "shell.execute_reply": "2021-12-24T07:28:30.177593Z"
        },
        "trusted": true,
        "id": "ESx-0AWnw4CM",
        "colab": {
          "base_uri": "https://localhost:8080/"
        },
        "outputId": "4912fe9f-aca2-437a-c7de-5be47a1e4cbe"
      },
      "execution_count": 12,
      "outputs": [
        {
          "output_type": "execute_result",
          "data": {
            "text/plain": [
              "(60000, 784)"
            ]
          },
          "metadata": {},
          "execution_count": 12
        }
      ]
    },
    {
      "cell_type": "code",
      "source": [
        "x_train[0]"
      ],
      "metadata": {
        "execution": {
          "iopub.status.busy": "2021-12-24T07:28:30.180366Z",
          "iopub.execute_input": "2021-12-24T07:28:30.18064Z",
          "iopub.status.idle": "2021-12-24T07:28:30.197516Z",
          "shell.execute_reply.started": "2021-12-24T07:28:30.180608Z",
          "shell.execute_reply": "2021-12-24T07:28:30.196354Z"
        },
        "trusted": true,
        "id": "Nn4CpMlNw4CM",
        "colab": {
          "base_uri": "https://localhost:8080/"
        },
        "outputId": "c0fe56c3-2bba-4e6e-a0aa-cae4d3ba977d"
      },
      "execution_count": 13,
      "outputs": [
        {
          "output_type": "execute_result",
          "data": {
            "text/plain": [
              "array([  0,   0,   0,   0,   0,   0,   0,   0,   0,   0,   0,   0,   0,\n",
              "         0,   0,   0,   0,   0,   0,   0,   0,   0,   0,   0,   0,   0,\n",
              "         0,   0,   0,   0,   0,   0,   0,   0,   0,   0,   0,   0,   0,\n",
              "         0,   0,   0,   0,   0,   0,   0,   0,   0,   0,   0,   0,   0,\n",
              "         0,   0,   0,   0,   0,   0,   0,   0,   0,   0,   0,   0,   0,\n",
              "         0,   0,   0,   0,   0,   0,   0,   0,   0,   0,   0,   0,   0,\n",
              "         0,   0,   0,   0,   0,   0,   0,   0,   0,   0,   0,   0,   0,\n",
              "         0,   0,   0,   0,   0,   0,   0,   0,   0,   0,   0,   0,   0,\n",
              "         0,   0,   0,   0,   0,   0,   0,   0,   0,   0,   0,   0,   0,\n",
              "         0,   0,   0,   0,   0,   0,   0,   0,   0,   0,   0,   0,   0,\n",
              "         0,   0,   0,   0,   0,   0,   0,   0,   0,   0,   0,   0,   0,\n",
              "         0,   0,   0,   0,   0,   0,   0,   0,   0,   3,  18,  18,  18,\n",
              "       126, 136, 175,  26, 166, 255, 247, 127,   0,   0,   0,   0,   0,\n",
              "         0,   0,   0,   0,   0,   0,   0,  30,  36,  94, 154, 170, 253,\n",
              "       253, 253, 253, 253, 225, 172, 253, 242, 195,  64,   0,   0,   0,\n",
              "         0,   0,   0,   0,   0,   0,   0,   0,  49, 238, 253, 253, 253,\n",
              "       253, 253, 253, 253, 253, 251,  93,  82,  82,  56,  39,   0,   0,\n",
              "         0,   0,   0,   0,   0,   0,   0,   0,   0,   0,  18, 219, 253,\n",
              "       253, 253, 253, 253, 198, 182, 247, 241,   0,   0,   0,   0,   0,\n",
              "         0,   0,   0,   0,   0,   0,   0,   0,   0,   0,   0,   0,   0,\n",
              "        80, 156, 107, 253, 253, 205,  11,   0,  43, 154,   0,   0,   0,\n",
              "         0,   0,   0,   0,   0,   0,   0,   0,   0,   0,   0,   0,   0,\n",
              "         0,   0,   0,  14,   1, 154, 253,  90,   0,   0,   0,   0,   0,\n",
              "         0,   0,   0,   0,   0,   0,   0,   0,   0,   0,   0,   0,   0,\n",
              "         0,   0,   0,   0,   0,   0,   0, 139, 253, 190,   2,   0,   0,\n",
              "         0,   0,   0,   0,   0,   0,   0,   0,   0,   0,   0,   0,   0,\n",
              "         0,   0,   0,   0,   0,   0,   0,   0,   0,  11, 190, 253,  70,\n",
              "         0,   0,   0,   0,   0,   0,   0,   0,   0,   0,   0,   0,   0,\n",
              "         0,   0,   0,   0,   0,   0,   0,   0,   0,   0,   0,   0,  35,\n",
              "       241, 225, 160, 108,   1,   0,   0,   0,   0,   0,   0,   0,   0,\n",
              "         0,   0,   0,   0,   0,   0,   0,   0,   0,   0,   0,   0,   0,\n",
              "         0,   0,  81, 240, 253, 253, 119,  25,   0,   0,   0,   0,   0,\n",
              "         0,   0,   0,   0,   0,   0,   0,   0,   0,   0,   0,   0,   0,\n",
              "         0,   0,   0,   0,   0,  45, 186, 253, 253, 150,  27,   0,   0,\n",
              "         0,   0,   0,   0,   0,   0,   0,   0,   0,   0,   0,   0,   0,\n",
              "         0,   0,   0,   0,   0,   0,   0,   0,  16,  93, 252, 253, 187,\n",
              "         0,   0,   0,   0,   0,   0,   0,   0,   0,   0,   0,   0,   0,\n",
              "         0,   0,   0,   0,   0,   0,   0,   0,   0,   0,   0,   0, 249,\n",
              "       253, 249,  64,   0,   0,   0,   0,   0,   0,   0,   0,   0,   0,\n",
              "         0,   0,   0,   0,   0,   0,   0,   0,   0,   0,   0,  46, 130,\n",
              "       183, 253, 253, 207,   2,   0,   0,   0,   0,   0,   0,   0,   0,\n",
              "         0,   0,   0,   0,   0,   0,   0,   0,   0,   0,   0,  39, 148,\n",
              "       229, 253, 253, 253, 250, 182,   0,   0,   0,   0,   0,   0,   0,\n",
              "         0,   0,   0,   0,   0,   0,   0,   0,   0,   0,   0,  24, 114,\n",
              "       221, 253, 253, 253, 253, 201,  78,   0,   0,   0,   0,   0,   0,\n",
              "         0,   0,   0,   0,   0,   0,   0,   0,   0,   0,   0,  23,  66,\n",
              "       213, 253, 253, 253, 253, 198,  81,   2,   0,   0,   0,   0,   0,\n",
              "         0,   0,   0,   0,   0,   0,   0,   0,   0,   0,   0,  18, 171,\n",
              "       219, 253, 253, 253, 253, 195,  80,   9,   0,   0,   0,   0,   0,\n",
              "         0,   0,   0,   0,   0,   0,   0,   0,   0,   0,   0,  55, 172,\n",
              "       226, 253, 253, 253, 253, 244, 133,  11,   0,   0,   0,   0,   0,\n",
              "         0,   0,   0,   0,   0,   0,   0,   0,   0,   0,   0,   0,   0,\n",
              "       136, 253, 253, 253, 212, 135, 132,  16,   0,   0,   0,   0,   0,\n",
              "         0,   0,   0,   0,   0,   0,   0,   0,   0,   0,   0,   0,   0,\n",
              "         0,   0,   0,   0,   0,   0,   0,   0,   0,   0,   0,   0,   0,\n",
              "         0,   0,   0,   0,   0,   0,   0,   0,   0,   0,   0,   0,   0,\n",
              "         0,   0,   0,   0,   0,   0,   0,   0,   0,   0,   0,   0,   0,\n",
              "         0,   0,   0,   0,   0,   0,   0,   0,   0,   0,   0,   0,   0,\n",
              "         0,   0,   0,   0,   0,   0,   0,   0,   0,   0,   0,   0,   0,\n",
              "         0,   0,   0,   0,   0,   0,   0,   0,   0,   0,   0,   0,   0,\n",
              "         0,   0,   0,   0], dtype=uint8)"
            ]
          },
          "metadata": {},
          "execution_count": 13
        }
      ]
    },
    {
      "cell_type": "markdown",
      "source": [
        "### Normalizing the Image Data"
      ],
      "metadata": {
        "id": "SX1hATVew4CM"
      }
    },
    {
      "cell_type": "markdown",
      "source": [
        "**Deep learning models are better at dealing with floating point numbers between 0 and 1**. Converting integer values to floating point values between 0 and 1 is called [normalization](https://developers.google.com/machine-learning/glossary#normalization), and a simple approach we will take here to normalize the data will be to divide all the pixel values (which if you recall are between 0 and 255) by 255:"
      ],
      "metadata": {
        "id": "yoGppf1cw4CM"
      }
    },
    {
      "cell_type": "code",
      "source": [
        "x_train = x_train / 255\n",
        "x_valid = x_valid / 255 "
      ],
      "metadata": {
        "execution": {
          "iopub.status.busy": "2021-12-24T07:28:30.199527Z",
          "iopub.execute_input": "2021-12-24T07:28:30.199938Z",
          "iopub.status.idle": "2021-12-24T07:28:30.403205Z",
          "shell.execute_reply.started": "2021-12-24T07:28:30.199888Z",
          "shell.execute_reply": "2021-12-24T07:28:30.402387Z"
        },
        "trusted": true,
        "id": "CpwzRcWDw4CN"
      },
      "execution_count": 14,
      "outputs": []
    },
    {
      "cell_type": "markdown",
      "source": [
        "We can now see that the values are all floating point values between `0.0` and `1.0`:"
      ],
      "metadata": {
        "id": "CBRLg4sww4CN"
      }
    },
    {
      "cell_type": "code",
      "source": [
        "x_train.dtype"
      ],
      "metadata": {
        "execution": {
          "iopub.status.busy": "2021-12-24T07:28:30.405577Z",
          "iopub.execute_input": "2021-12-24T07:28:30.406015Z",
          "iopub.status.idle": "2021-12-24T07:28:30.413165Z",
          "shell.execute_reply.started": "2021-12-24T07:28:30.405958Z",
          "shell.execute_reply": "2021-12-24T07:28:30.411916Z"
        },
        "trusted": true,
        "id": "Ar8Qr_kNw4CN",
        "colab": {
          "base_uri": "https://localhost:8080/"
        },
        "outputId": "85cf7a6b-2240-4cc6-f7a9-b926e3272796"
      },
      "execution_count": 15,
      "outputs": [
        {
          "output_type": "execute_result",
          "data": {
            "text/plain": [
              "dtype('float64')"
            ]
          },
          "metadata": {},
          "execution_count": 15
        }
      ]
    },
    {
      "cell_type": "code",
      "source": [
        "x_train.min()"
      ],
      "metadata": {
        "execution": {
          "iopub.status.busy": "2021-12-24T07:28:30.414999Z",
          "iopub.execute_input": "2021-12-24T07:28:30.416301Z",
          "iopub.status.idle": "2021-12-24T07:28:30.466869Z",
          "shell.execute_reply.started": "2021-12-24T07:28:30.416253Z",
          "shell.execute_reply": "2021-12-24T07:28:30.46611Z"
        },
        "trusted": true,
        "id": "pVmXDkJGw4CN",
        "colab": {
          "base_uri": "https://localhost:8080/"
        },
        "outputId": "86c2b7e4-6720-4970-c8d1-da559b42717c"
      },
      "execution_count": 16,
      "outputs": [
        {
          "output_type": "execute_result",
          "data": {
            "text/plain": [
              "0.0"
            ]
          },
          "metadata": {},
          "execution_count": 16
        }
      ]
    },
    {
      "cell_type": "code",
      "source": [
        "x_train.max()"
      ],
      "metadata": {
        "execution": {
          "iopub.status.busy": "2021-12-24T07:28:30.468149Z",
          "iopub.execute_input": "2021-12-24T07:28:30.468943Z",
          "iopub.status.idle": "2021-12-24T07:28:30.518138Z",
          "shell.execute_reply.started": "2021-12-24T07:28:30.468906Z",
          "shell.execute_reply": "2021-12-24T07:28:30.51666Z"
        },
        "trusted": true,
        "id": "MQcepajuw4CN",
        "colab": {
          "base_uri": "https://localhost:8080/"
        },
        "outputId": "b0a2608f-8a3c-4f06-fae1-3edcc124c110"
      },
      "execution_count": 17,
      "outputs": [
        {
          "output_type": "execute_result",
          "data": {
            "text/plain": [
              "1.0"
            ]
          },
          "metadata": {},
          "execution_count": 17
        }
      ]
    },
    {
      "cell_type": "markdown",
      "source": [
        "### Categorical Encoding"
      ],
      "metadata": {
        "id": "RD5GPd3hw4CO"
      }
    },
    {
      "cell_type": "markdown",
      "source": [
        "Consider for a moment, if we were to ask, what is 7 - 2? Stating that the answer was 4 is closer than stating that the answer was 9. However, for this image classification problem, we don't want the neural network to learn this kind of reasoning: we just want it to select the correct category, and understand that if we have an image of the number 5, that guessing 4 is just as bad as guessing 9.\n",
        "\n",
        "As it stands, the labels for the images are integers between 0 and 9. **Because these values represent a numerical range, the model might try to draw some conclusions about its performance based on how close to the correct numerical category it guesses.**\n",
        "\n",
        "Therefore, we will do something to our data called **categorical encoding**. This kind of transformation modifies the data so that **each value is a collection of all possible categories**, with the actual category that this particular value is set as true.\n",
        "\n",
        "As a simple example, consider if we had 3 categories: red, blue, and green. For a given color, 2 of these categories would be false, and the other would be true:"
      ],
      "metadata": {
        "id": "AUQnYtCWw4CO"
      }
    },
    {
      "cell_type": "markdown",
      "source": [
        "|Actual Color| Is Red? | Is Blue? | Is Green?|\n",
        "|------------|---------|----------|----------|\n",
        "|Red|True|False|False|\n",
        "|Green|False|False|True|\n",
        "|Blue|False|True|False|\n",
        "|Green|False|False|True|"
      ],
      "metadata": {
        "id": "HnaKVfZrw4CO"
      }
    },
    {
      "cell_type": "markdown",
      "source": [
        "Rather than use \"True\" or \"False\", we could represent the same using binary, either 0 or 1:"
      ],
      "metadata": {
        "id": "t_1Q8Atww4CO"
      }
    },
    {
      "cell_type": "markdown",
      "source": [
        "|Actual Color| Is Red? | Is Blue? | Is Green?|\n",
        "|------------|---------|----------|----------|\n",
        "|Red|1|0|0|\n",
        "|Green|0|0|1|\n",
        "|Blue|0|1|0|\n",
        "|Green|0|0|1|"
      ],
      "metadata": {
        "id": "mxGaVRqVw4CO"
      }
    },
    {
      "cell_type": "markdown",
      "source": [
        "This is what categorical encoding is, transforming values which are intended to be understood as categorical labels into a representation that makes their categorical nature explicit to the model. Thus, if we were using these values for training, we would convert..."
      ],
      "metadata": {
        "id": "zghMkonXw4CP"
      }
    },
    {
      "cell_type": "markdown",
      "source": [
        "```python\n",
        "values = ['red, green, blue, green']\n",
        "```"
      ],
      "metadata": {
        "id": "-FXnOcwTw4CP"
      }
    },
    {
      "cell_type": "markdown",
      "source": [
        "... which a neural network would have a very difficult time making sense of, instead to:"
      ],
      "metadata": {
        "id": "2ioia6ZOw4CP"
      }
    },
    {
      "cell_type": "markdown",
      "source": [
        "```python\n",
        "values = [\n",
        "    [1, 0, 0],\n",
        "    [0, 0, 1],\n",
        "    [0, 1, 0],\n",
        "    [0, 0, 1]\n",
        "]\n",
        "```"
      ],
      "metadata": {
        "id": "Tj6l_VJ0w4CP"
      }
    },
    {
      "cell_type": "markdown",
      "source": [
        "### Categorically Encoding the Labels"
      ],
      "metadata": {
        "id": "_dtH3S2Qw4CP"
      }
    },
    {
      "cell_type": "markdown",
      "source": [
        "Keras provides a utility to [categorically encode values](https://www.tensorflow.org/api_docs/python/tf/keras/utils/to_categorical), and here we use it to perform categorical encoding for both the training and validation labels:"
      ],
      "metadata": {
        "id": "3j6tyoXyw4CQ"
      }
    },
    {
      "cell_type": "code",
      "source": [
        "import tensorflow.keras as keras\n",
        "num_categories = 10 # handwritten digits from 0 to 9\n",
        "\n",
        "y_train = keras.utils.to_categorical(y_train, num_categories)\n",
        "y_valid = keras.utils.to_categorical(y_valid, num_categories)"
      ],
      "metadata": {
        "execution": {
          "iopub.status.busy": "2021-12-24T07:28:30.52003Z",
          "iopub.execute_input": "2021-12-24T07:28:30.520552Z",
          "iopub.status.idle": "2021-12-24T07:28:30.529815Z",
          "shell.execute_reply.started": "2021-12-24T07:28:30.520479Z",
          "shell.execute_reply": "2021-12-24T07:28:30.528429Z"
        },
        "trusted": true,
        "id": "aUywYzoMw4CQ"
      },
      "execution_count": 18,
      "outputs": []
    },
    {
      "cell_type": "markdown",
      "source": [
        "Here are the first 10 values of the training labels, which you can see have now been categorically encoded:"
      ],
      "metadata": {
        "id": "HwC1Qfpew4CQ"
      }
    },
    {
      "cell_type": "code",
      "source": [
        "y_train[0:9]"
      ],
      "metadata": {
        "execution": {
          "iopub.status.busy": "2021-12-24T07:28:30.531161Z",
          "iopub.execute_input": "2021-12-24T07:28:30.531406Z",
          "iopub.status.idle": "2021-12-24T07:28:30.54278Z",
          "shell.execute_reply.started": "2021-12-24T07:28:30.531372Z",
          "shell.execute_reply": "2021-12-24T07:28:30.54165Z"
        },
        "trusted": true,
        "id": "l9WYv_tow4CQ",
        "colab": {
          "base_uri": "https://localhost:8080/"
        },
        "outputId": "27e6a550-7e91-4873-dcda-b4dabac79b9d"
      },
      "execution_count": 19,
      "outputs": [
        {
          "output_type": "execute_result",
          "data": {
            "text/plain": [
              "array([[0., 0., 0., 0., 0., 1., 0., 0., 0., 0.],\n",
              "       [1., 0., 0., 0., 0., 0., 0., 0., 0., 0.],\n",
              "       [0., 0., 0., 0., 1., 0., 0., 0., 0., 0.],\n",
              "       [0., 1., 0., 0., 0., 0., 0., 0., 0., 0.],\n",
              "       [0., 0., 0., 0., 0., 0., 0., 0., 0., 1.],\n",
              "       [0., 0., 1., 0., 0., 0., 0., 0., 0., 0.],\n",
              "       [0., 1., 0., 0., 0., 0., 0., 0., 0., 0.],\n",
              "       [0., 0., 0., 1., 0., 0., 0., 0., 0., 0.],\n",
              "       [0., 1., 0., 0., 0., 0., 0., 0., 0., 0.]], dtype=float32)"
            ]
          },
          "metadata": {},
          "execution_count": 19
        }
      ]
    },
    {
      "cell_type": "markdown",
      "source": [
        "## Creating the Model"
      ],
      "metadata": {
        "id": "GVbfVuGVw4CQ"
      }
    },
    {
      "cell_type": "markdown",
      "source": [
        "With the data prepared for training, it is now time to create the model that we will train with the data. This first basic model will be made up of several *layers* and will be comprised of 3 main parts:\n",
        "\n",
        "1. An **input layer**, which will receive data in some expected format\n",
        "2. Several [hidden layers](https://developers.google.com/machine-learning/glossary#hidden-layer), each comprised of many *neurons*. Each [neuron](https://developers.google.com/machine-learning/glossary#neuron) will have the ability to affect the network's guess with its *weights*, which are values that will be updated over many iterations as the network gets feedback on its performance and learns\n",
        "3. An **output layer**, which will depict the network's guess for a given image"
      ],
      "metadata": {
        "id": "SGPfHIvCw4CQ"
      }
    },
    {
      "cell_type": "markdown",
      "source": [
        "### Instantiating the Model"
      ],
      "metadata": {
        "id": "XNU_t0hSw4CR"
      }
    },
    {
      "cell_type": "markdown",
      "source": [
        "To begin, we will use Keras's [Sequential](https://www.tensorflow.org/api_docs/python/tf/keras/Sequential) model class to instantiate an instance of a model that will have a series of layers that data will pass through in sequence:"
      ],
      "metadata": {
        "id": "4qepKERtw4CR"
      }
    },
    {
      "cell_type": "code",
      "source": [
        "from tensorflow.keras.models import Sequential\n",
        "\n",
        "model = Sequential()"
      ],
      "metadata": {
        "execution": {
          "iopub.status.busy": "2021-12-24T07:28:30.544078Z",
          "iopub.execute_input": "2021-12-24T07:28:30.544503Z",
          "iopub.status.idle": "2021-12-24T07:28:30.616619Z",
          "shell.execute_reply.started": "2021-12-24T07:28:30.544453Z",
          "shell.execute_reply": "2021-12-24T07:28:30.615564Z"
        },
        "trusted": true,
        "id": "9Hl4qnR1w4CR"
      },
      "execution_count": 20,
      "outputs": []
    },
    {
      "cell_type": "markdown",
      "source": [
        "### Creating the Input Layer"
      ],
      "metadata": {
        "id": "szx486orw4CR"
      }
    },
    {
      "cell_type": "markdown",
      "source": [
        "Next, we will **add the input layer.** This layer will be *densely connected*, meaning that **each neuron in it, and its weights, will affect every neuron in the next layer.** To do this with Keras, we use Keras's [Dense](https://www.tensorflow.org/api_docs/python/tf/keras/layers/Dense) layer class."
      ],
      "metadata": {
        "id": "qXRulVYZw4CS"
      }
    },
    {
      "cell_type": "code",
      "source": [
        "from tensorflow.keras.layers import Dense"
      ],
      "metadata": {
        "execution": {
          "iopub.status.busy": "2021-12-24T07:28:30.61833Z",
          "iopub.execute_input": "2021-12-24T07:28:30.619314Z",
          "iopub.status.idle": "2021-12-24T07:28:30.626408Z",
          "shell.execute_reply.started": "2021-12-24T07:28:30.619265Z",
          "shell.execute_reply": "2021-12-24T07:28:30.62553Z"
        },
        "trusted": true,
        "id": "cEqzPzsxw4CS"
      },
      "execution_count": 21,
      "outputs": []
    },
    {
      "cell_type": "markdown",
      "source": [
        "The `units` argument specifies **the number of neurons in the layer.** We are going to use `512` which we have chosen from experimentation. Choosing the correct number of neurons is what puts the \"science\" in \"data science\" as it is a matter of capturing the statistical complexity of the dataset. Try playing around with this value later to see how it affects training and to start developing a sense for what this number means.\n",
        "\n",
        "For now, we will use the **`relu` activation function**, which in short, will help our network to **learn how to make more sophisticated guesses about data** than if it were required to make guesses based on some strictly linear function.\n",
        "\n",
        "The `input_shape` value specifies **the shape of the incoming data** which in our situation is a **1D array of 784 values**:"
      ],
      "metadata": {
        "id": "Bu7hCr-aw4CS"
      }
    },
    {
      "cell_type": "code",
      "source": [
        "model.add(Dense(units=512, activation='relu', input_shape=(784,)))"
      ],
      "metadata": {
        "execution": {
          "iopub.status.busy": "2021-12-24T07:28:30.627694Z",
          "iopub.execute_input": "2021-12-24T07:28:30.62887Z",
          "iopub.status.idle": "2021-12-24T07:28:30.693217Z",
          "shell.execute_reply.started": "2021-12-24T07:28:30.628794Z",
          "shell.execute_reply": "2021-12-24T07:28:30.692458Z"
        },
        "trusted": true,
        "id": "6Od2hdWvw4CS"
      },
      "execution_count": 22,
      "outputs": []
    },
    {
      "cell_type": "markdown",
      "source": [
        "### Creating the Hidden Layer"
      ],
      "metadata": {
        "id": "_ZH8AhJVw4CS"
      }
    },
    {
      "cell_type": "markdown",
      "source": [
        "Now we will add an **additional densely connected layer.** These layers **give the network more parameters** to contribute towards its guesses, and therefore, **more subtle opportunities for accurate learning**:"
      ],
      "metadata": {
        "id": "BZvzQNWew4CT"
      }
    },
    {
      "cell_type": "code",
      "source": [
        "model.add(Dense(units = 512, activation='relu'))"
      ],
      "metadata": {
        "execution": {
          "iopub.status.busy": "2021-12-24T07:28:30.694208Z",
          "iopub.execute_input": "2021-12-24T07:28:30.694963Z",
          "iopub.status.idle": "2021-12-24T07:28:30.712055Z",
          "shell.execute_reply.started": "2021-12-24T07:28:30.694927Z",
          "shell.execute_reply": "2021-12-24T07:28:30.711043Z"
        },
        "trusted": true,
        "id": "WvqVKcqAw4CT"
      },
      "execution_count": 23,
      "outputs": []
    },
    {
      "cell_type": "markdown",
      "source": [
        "### Creating the Output Layer"
      ],
      "metadata": {
        "id": "SLiKkt2qw4CT"
      }
    },
    {
      "cell_type": "markdown",
      "source": [
        "Finally, we will add an **output layer.** This layer uses the **activation function `softmax`** which will result in **each of the layer's values being a probability between 0 and 1** and will result in all the outputs of the layer adding to 1. In this case, **since the network is to make a guess about a single image belonging to 1 of 10 possible categories, there will be 10 outputs.** Each output gives the model's guess (a probability) that the image belongs to that specific class:"
      ],
      "metadata": {
        "id": "UQJ1I4Ckw4CT"
      }
    },
    {
      "cell_type": "code",
      "source": [
        "model.add(Dense(units = 10, activation='softmax'))"
      ],
      "metadata": {
        "execution": {
          "iopub.status.busy": "2021-12-24T07:28:30.713246Z",
          "iopub.execute_input": "2021-12-24T07:28:30.713608Z",
          "iopub.status.idle": "2021-12-24T07:28:30.727881Z",
          "shell.execute_reply.started": "2021-12-24T07:28:30.713577Z",
          "shell.execute_reply": "2021-12-24T07:28:30.726684Z"
        },
        "trusted": true,
        "id": "NyTP43e0w4CT"
      },
      "execution_count": 24,
      "outputs": []
    },
    {
      "cell_type": "markdown",
      "source": [
        "### Summarizing the Model"
      ],
      "metadata": {
        "id": "miewxFKMw4CU"
      }
    },
    {
      "cell_type": "markdown",
      "source": [
        "Keras provides the model instance method [summary](https://www.tensorflow.org/api_docs/python/tf/summary) which will print a readable summary of a model:"
      ],
      "metadata": {
        "id": "SCB-QnE6w4CU"
      }
    },
    {
      "cell_type": "code",
      "source": [
        "model.summary()"
      ],
      "metadata": {
        "execution": {
          "iopub.status.busy": "2021-12-24T07:28:30.729241Z",
          "iopub.execute_input": "2021-12-24T07:28:30.729482Z",
          "iopub.status.idle": "2021-12-24T07:28:30.737548Z",
          "shell.execute_reply.started": "2021-12-24T07:28:30.729451Z",
          "shell.execute_reply": "2021-12-24T07:28:30.736538Z"
        },
        "trusted": true,
        "id": "03wpRgG9w4CU",
        "colab": {
          "base_uri": "https://localhost:8080/"
        },
        "outputId": "549f670f-bb4e-4992-e31a-dcea92fbf896"
      },
      "execution_count": 25,
      "outputs": [
        {
          "output_type": "stream",
          "name": "stdout",
          "text": [
            "Model: \"sequential\"\n",
            "_________________________________________________________________\n",
            " Layer (type)                Output Shape              Param #   \n",
            "=================================================================\n",
            " dense (Dense)               (None, 512)               401920    \n",
            "                                                                 \n",
            " dense_1 (Dense)             (None, 512)               262656    \n",
            "                                                                 \n",
            " dense_2 (Dense)             (None, 10)                5130      \n",
            "                                                                 \n",
            "=================================================================\n",
            "Total params: 669,706\n",
            "Trainable params: 669,706\n",
            "Non-trainable params: 0\n",
            "_________________________________________________________________\n"
          ]
        }
      ]
    },
    {
      "cell_type": "markdown",
      "source": [
        "**Note the number of trainable parameters.** Each of these can be adjusted during training and will contribute towards the trained model's guesses."
      ],
      "metadata": {
        "id": "XdECdntzw4CU"
      }
    },
    {
      "cell_type": "markdown",
      "source": [
        "### Compiling the Model"
      ],
      "metadata": {
        "id": "_A6K3QBZw4CU"
      }
    },
    {
      "cell_type": "markdown",
      "source": [
        "The final step we need to do before we can actually train our model with data is to [compile](https://www.tensorflow.org/api_docs/python/tf/keras/Sequential#compile) it. Here we specify a [loss function](https://developers.google.com/machine-learning/glossary#loss) which will be used for the model to **understand how well it is performing during training.** We also specify that we would like to **track `accuracy` while the model trains**:"
      ],
      "metadata": {
        "id": "Q74UTOt1w4CV"
      }
    },
    {
      "cell_type": "code",
      "source": [
        "model.compile(loss='categorical_crossentropy', metrics=['accuracy'])"
      ],
      "metadata": {
        "execution": {
          "iopub.status.busy": "2021-12-24T07:28:30.738831Z",
          "iopub.execute_input": "2021-12-24T07:28:30.73921Z",
          "iopub.status.idle": "2021-12-24T07:28:30.758737Z",
          "shell.execute_reply.started": "2021-12-24T07:28:30.739178Z",
          "shell.execute_reply": "2021-12-24T07:28:30.757605Z"
        },
        "trusted": true,
        "id": "dkO0F9wgw4CV"
      },
      "execution_count": 26,
      "outputs": []
    },
    {
      "cell_type": "markdown",
      "source": [
        "## Training the Model"
      ],
      "metadata": {
        "id": "y0c_tMMsw4CV"
      }
    },
    {
      "cell_type": "markdown",
      "source": [
        "Now that we have prepared training and validation data, and a model, it's time to train our model with our training data, and verify it with its validation data.\n",
        "\n",
        "**\"Training a model with data\" is often also called \"fitting a model to data.\"** Put this latter way, it highlights that **the shape of the model changes over time to more accurately understand the data that it is being given.**\n",
        "\n",
        "When fitting (training) a model with Keras, we use the model's [fit](https://www.tensorflow.org/api_docs/python/tf/keras/Model#fit) method. It expects the following arguments:\n",
        "\n",
        "* The training data\n",
        "* The labels for the training data\n",
        "* The number of times it should train on the entire training dataset (called an ***epoch***)\n",
        "* The validation or test data, and its labels"
      ],
      "metadata": {
        "id": "P0-jK6-Ew4CV"
      }
    },
    {
      "cell_type": "code",
      "source": [
        "history = model.fit(\n",
        "    x_train, y_train, epochs=5, verbose=1, validation_data=(x_valid, y_valid)\n",
        ")"
      ],
      "metadata": {
        "execution": {
          "iopub.status.busy": "2021-12-24T07:28:30.760106Z",
          "iopub.execute_input": "2021-12-24T07:28:30.760369Z",
          "iopub.status.idle": "2021-12-24T07:29:48.00045Z",
          "shell.execute_reply.started": "2021-12-24T07:28:30.760336Z",
          "shell.execute_reply": "2021-12-24T07:29:47.999138Z"
        },
        "trusted": true,
        "id": "f_okauAlw4CV",
        "colab": {
          "base_uri": "https://localhost:8080/"
        },
        "outputId": "23827587-58d0-48c3-a61c-5f5f6f216ac5"
      },
      "execution_count": 27,
      "outputs": [
        {
          "output_type": "stream",
          "name": "stdout",
          "text": [
            "Epoch 1/5\n",
            "1875/1875 [==============================] - 19s 9ms/step - loss: 0.1898 - accuracy: 0.9437 - val_loss: 0.1327 - val_accuracy: 0.9646\n",
            "Epoch 2/5\n",
            "1875/1875 [==============================] - 15s 8ms/step - loss: 0.1004 - accuracy: 0.9736 - val_loss: 0.1050 - val_accuracy: 0.9749\n",
            "Epoch 3/5\n",
            "1875/1875 [==============================] - 16s 8ms/step - loss: 0.0844 - accuracy: 0.9796 - val_loss: 0.0992 - val_accuracy: 0.9785\n",
            "Epoch 4/5\n",
            "1875/1875 [==============================] - 15s 8ms/step - loss: 0.0728 - accuracy: 0.9831 - val_loss: 0.1185 - val_accuracy: 0.9789\n",
            "Epoch 5/5\n",
            "1875/1875 [==============================] - 16s 8ms/step - loss: 0.0633 - accuracy: 0.9857 - val_loss: 0.1565 - val_accuracy: 0.9821\n"
          ]
        }
      ]
    },
    {
      "cell_type": "markdown",
      "source": [
        "### Observing Accuracy"
      ],
      "metadata": {
        "id": "w0FqAew2w4CW"
      }
    },
    {
      "cell_type": "markdown",
      "source": [
        "For each of the 5 epochs, notice the `accuracy` and `val_accuracy` scores. **`accuracy` states how well the model did for the epoch on all the training data. `val_accuracy` states how well the model did on the validation data**, which if you recall, was **not used at all for training the model.**"
      ],
      "metadata": {
        "id": "Kcz0TfdEw4CW"
      }
    },
    {
      "cell_type": "markdown",
      "source": [
        "The model did quite well! **The accuracy quickly reached close to 100%, as did the validation accuracy.** We now have a model that can be used to accurately detect and classify hand-written images.\n",
        "\n",
        "The next step would be to use this model to classify new not-yet-seen handwritten images. This is called [inference](https://blogs.nvidia.com/blog/2016/08/22/difference-deep-learning-training-inference-ai/)."
      ],
      "metadata": {
        "id": "19rCVEo9w4CW"
      }
    },
    {
      "cell_type": "markdown",
      "source": [
        "## Summary"
      ],
      "metadata": {
        "id": "sCg4MUWGw4CW"
      }
    },
    {
      "cell_type": "markdown",
      "source": [
        "It's worth taking a moment to appreciate what we've done here. Historically, the expert systems that were built to do this kind of task were extremely complicated, and people spent their careers building them (check out the references on the [official MNIST page](http://yann.lecun.com/exdb/mnist/) and the years milestones were reached).\n",
        "\n",
        "MNIST is not only useful for its historical influence on Computer Vision, but it's also a great [benchmark](http://www.cs.toronto.edu/~serailhydra/publications/tbd-iiswc18.pdf) and debugging tool. Having trouble getting a fancy new machine learning architecture working? Check it against MNIST. If it can't learn on this dataset, chances are it won't learn on more complicated images and datasets."
      ],
      "metadata": {
        "id": "P7mvDFcgw4CW"
      }
    },
    {
      "cell_type": "markdown",
      "source": [
        "<hr>\n",
        "\n",
        "**Source**: [NVIDIA Deep Learning Institute](https://www.nvidia.com/en-us/training/)\n",
        "\n",
        "<hr>\n"
      ],
      "metadata": {
        "id": "Svgz8ccZ4xv0"
      }
    }
  ]
}