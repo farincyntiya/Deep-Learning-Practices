{
  "metadata": {
    "kernelspec": {
      "language": "python",
      "display_name": "Python 3",
      "name": "python3"
    },
    "language_info": {
      "pygments_lexer": "ipython3",
      "nbconvert_exporter": "python",
      "version": "3.6.4",
      "file_extension": ".py",
      "codemirror_mode": {
        "name": "ipython",
        "version": 3
      },
      "name": "python",
      "mimetype": "text/x-python"
    },
    "colab": {
      "name": "6_Recurrent_Neural_Networks.ipynb",
      "provenance": [],
      "collapsed_sections": []
    }
  },
  "nbformat_minor": 0,
  "nbformat": 4,
  "cells": [
    {
      "cell_type": "markdown",
      "source": [
        "# **Recurrent Neural Networks**"
      ],
      "metadata": {
        "id": "7OoUemJ-cqJI"
      }
    },
    {
      "cell_type": "markdown",
      "source": [
        "In this section, we'll take a detour away from stand-alone pieces of data such as still images, to data that is dependent on other data items in a sequence. For our example, we'll use text sentences. **Language is naturally composed of sequence data, in the form of characters in words, and words in sentences.** Other examples of sequence data include stock prices and  weather data over time. Videos, while containing still images, are also sequences. Elements in the data have a relationship with what comes before and what comes after, and this fact requires a different approach."
      ],
      "metadata": {
        "id": "sGISf3plcqJJ"
      }
    },
    {
      "cell_type": "markdown",
      "source": [
        "## Objectives"
      ],
      "metadata": {
        "id": "er1uxf7GcqJK"
      }
    },
    {
      "cell_type": "markdown",
      "source": [
        "* Prepare sequence data to use in a [recurrent neural network](https://developers.google.com/machine-learning/glossary#recurrent-neural-network) (RNN)\n",
        "* Build and train a model to perform word prediction"
      ],
      "metadata": {
        "id": "1syVdk6PcqJL"
      }
    },
    {
      "cell_type": "markdown",
      "source": [
        "## Headline Generator"
      ],
      "metadata": {
        "id": "m5ZWBHRBcqJL"
      }
    },
    {
      "cell_type": "markdown",
      "source": [
        "We've all seen text predictors in applications like the search bars, on cell phones, or in text editors that provide autocompletion of sentences. Many of the good text predictor models are trained on very large datasets, and take a lot of time and/or processing power to train. For this exercise, our predictor will be quite simple, but it will provide some simple exposure to **language processing, sequence data, and one of the classic architecture elements used to train sequences, *recurrent neural networks* or *RNNs*.**"
      ],
      "metadata": {
        "id": "k7b16HGbcqJM"
      }
    },
    {
      "cell_type": "markdown",
      "source": [
        "## Reading in the Data"
      ],
      "metadata": {
        "id": "5NFmTwuacqJN"
      }
    },
    {
      "cell_type": "markdown",
      "source": [
        "Our dataset consists of headlines from the [New York Times](https://www.nytimes.com/) newspaper over the course of several months. We'll start by reading in all the headlines from the articles. The articles are in CSV files, so we can use *pandas* to read them in."
      ],
      "metadata": {
        "id": "Bmf4mVL7cqJN"
      }
    },
    {
      "cell_type": "markdown",
      "source": [
        "### Importing Data from Kaggle"
      ],
      "metadata": {
        "id": "eixX_-6x7lUc"
      }
    },
    {
      "cell_type": "code",
      "source": [
        "! pip install -q kaggle"
      ],
      "metadata": {
        "id": "u3lxiHgV7mf0"
      },
      "execution_count": 1,
      "outputs": []
    },
    {
      "cell_type": "code",
      "source": [
        "! mkdir ~/.kaggle"
      ],
      "metadata": {
        "id": "Bmla7Siq7oKQ"
      },
      "execution_count": 2,
      "outputs": []
    },
    {
      "cell_type": "code",
      "source": [
        "! cp kaggle.json ~/.kaggle/ # kaggle > account > create new API token"
      ],
      "metadata": {
        "id": "G5_BZfr37pZw"
      },
      "execution_count": 3,
      "outputs": []
    },
    {
      "cell_type": "code",
      "source": [
        "! chmod 600 ~/.kaggle/kaggle.json"
      ],
      "metadata": {
        "id": "BUkxilTM7qy-"
      },
      "execution_count": 4,
      "outputs": []
    },
    {
      "cell_type": "code",
      "source": [
        "! kaggle datasets download aashita/nyt-comments"
      ],
      "metadata": {
        "colab": {
          "base_uri": "https://localhost:8080/"
        },
        "id": "_jiR0T037sNM",
        "outputId": "a9c4e351-1d19-4f38-c86e-28f203bd9617"
      },
      "execution_count": 5,
      "outputs": [
        {
          "output_type": "stream",
          "name": "stdout",
          "text": [
            "Downloading nyt-comments.zip to /content\n",
            " 98% 469M/480M [00:09<00:00, 69.1MB/s]\n",
            "100% 480M/480M [00:09<00:00, 53.1MB/s]\n"
          ]
        }
      ]
    },
    {
      "cell_type": "code",
      "source": [
        "! unzip \"/content/nyt-comments.zip\" -d \"/content/\""
      ],
      "metadata": {
        "colab": {
          "base_uri": "https://localhost:8080/"
        },
        "id": "7r13PFcD7trh",
        "outputId": "ef1f6bcf-1ee7-4f46-83e7-cc21a5913a49"
      },
      "execution_count": 6,
      "outputs": [
        {
          "output_type": "stream",
          "name": "stdout",
          "text": [
            "Archive:  /content/nyt-comments.zip\n",
            "  inflating: /content/ArticlesApril2017.csv  \n",
            "  inflating: /content/ArticlesApril2018.csv  \n",
            "  inflating: /content/ArticlesFeb2017.csv  \n",
            "  inflating: /content/ArticlesFeb2018.csv  \n",
            "  inflating: /content/ArticlesJan2017.csv  \n",
            "  inflating: /content/ArticlesJan2018.csv  \n",
            "  inflating: /content/ArticlesMarch2017.csv  \n",
            "  inflating: /content/ArticlesMarch2018.csv  \n",
            "  inflating: /content/ArticlesMay2017.csv  \n",
            "  inflating: /content/CommentsApril2017.csv  \n",
            "  inflating: /content/CommentsApril2018.csv  \n",
            "  inflating: /content/CommentsFeb2017.csv  \n",
            "  inflating: /content/CommentsFeb2018.csv  \n",
            "  inflating: /content/CommentsJan2017.csv  \n",
            "  inflating: /content/CommentsJan2018.csv  \n",
            "  inflating: /content/CommentsMarch2017.csv  \n",
            "  inflating: /content/CommentsMarch2018.csv  \n",
            "  inflating: /content/CommentsMay2017.csv  \n"
          ]
        }
      ]
    },
    {
      "cell_type": "markdown",
      "source": [
        "### Reading Data using pandas"
      ],
      "metadata": {
        "id": "Ltgr72PA8bU9"
      }
    },
    {
      "cell_type": "code",
      "source": [
        "import os \n",
        "import pandas as pd\n",
        "\n",
        "nyt_dir = '/content/nyt-comments'\n",
        "\n",
        "all_headlines = []\n",
        "for filename in os.listdir(nyt_dir):\n",
        "    if 'Articles' in filename:\n",
        "        print(filename)\n",
        "        # read in all the data from the CSV file\n",
        "        headlines_df = pd.read_csv(nyt_dir + \"/\" + filename)\n",
        "        # add all of the headlines to our list\n",
        "        all_headlines.extend(list(headlines_df.headline.values))\n",
        "len(all_headlines)"
      ],
      "metadata": {
        "execution": {
          "iopub.status.busy": "2021-12-25T16:27:35.976683Z",
          "iopub.execute_input": "2021-12-25T16:27:35.976947Z",
          "iopub.status.idle": "2021-12-25T16:27:36.13284Z",
          "shell.execute_reply.started": "2021-12-25T16:27:35.976919Z",
          "shell.execute_reply": "2021-12-25T16:27:36.131921Z"
        },
        "trusted": true,
        "id": "3nNogZaKcqJO",
        "colab": {
          "base_uri": "https://localhost:8080/"
        },
        "outputId": "2c46415a-8b6e-424e-d0a4-ddbefe82ab2d"
      },
      "execution_count": 7,
      "outputs": [
        {
          "output_type": "stream",
          "name": "stdout",
          "text": [
            "ArticlesMarch2017.csv\n",
            "ArticlesJan2017.csv\n",
            "ArticlesMay2017.csv\n",
            "ArticlesJan2018.csv\n",
            "ArticlesApril2018.csv\n",
            "ArticlesFeb2017.csv\n",
            "ArticlesMarch2018.csv\n",
            "ArticlesApril2017.csv\n",
            "ArticlesFeb2018.csv\n"
          ]
        },
        {
          "output_type": "execute_result",
          "data": {
            "text/plain": [
              "9335"
            ]
          },
          "metadata": {},
          "execution_count": 7
        }
      ]
    },
    {
      "cell_type": "markdown",
      "source": [
        "Let's take a look at our first few headlines:"
      ],
      "metadata": {
        "id": "8bd_iU_ccqJQ"
      }
    },
    {
      "cell_type": "code",
      "source": [
        "all_headlines[:20]"
      ],
      "metadata": {
        "execution": {
          "iopub.status.busy": "2021-12-25T16:27:36.134365Z",
          "iopub.execute_input": "2021-12-25T16:27:36.134673Z",
          "iopub.status.idle": "2021-12-25T16:27:36.141929Z",
          "shell.execute_reply.started": "2021-12-25T16:27:36.134641Z",
          "shell.execute_reply": "2021-12-25T16:27:36.140997Z"
        },
        "trusted": true,
        "id": "mgq0zrVEcqJR",
        "colab": {
          "base_uri": "https://localhost:8080/"
        },
        "outputId": "c59d57c5-20d9-41d5-f030-3811eb2c27f9"
      },
      "execution_count": 8,
      "outputs": [
        {
          "output_type": "execute_result",
          "data": {
            "text/plain": [
              "['The Opioid Crisis Foretold',\n",
              " 'The Business Deals That Could Imperil Trump',\n",
              " 'Adapting to American Decline',\n",
              " 'The Republicans’ Big Senate Mess',\n",
              " 'States Are Doing What Scott Pruitt Won’t',\n",
              " 'Fake Pearls, Real Heart',\n",
              " 'Fear Beyond Starbucks',\n",
              " 'Variety: Puns and Anagrams',\n",
              " 'E.P.A. Chief’s Ethics Woes Have Echoes in His Past',\n",
              " 'Where Facebook Rumors Fuel Thirst for Revenge',\n",
              " 'The House Next Door Is an Airbnb. Here’s What You Can Do About It.',\n",
              " 'Punch the Air',\n",
              " 'Caution, Babies Voting',\n",
              " 'Childbirth’s Dangers for Black Women',\n",
              " 'A Man Set Himself on Fire. We Barely Noticed.',\n",
              " 'Why Men Quit and Women Don’t',\n",
              " 'Jewish Power At 70 Years',\n",
              " 'Here to Help; A Word on Phrasing: ‘Just Deserts’',\n",
              " 'It’s Curtains for ‘Gypsy’',\n",
              " 'Unknown']"
            ]
          },
          "metadata": {},
          "execution_count": 8
        }
      ]
    },
    {
      "cell_type": "markdown",
      "source": [
        "## Cleaning the Data"
      ],
      "metadata": {
        "id": "d5R6r7_2cqJV"
      }
    },
    {
      "cell_type": "markdown",
      "source": [
        "An important part of natural language processing (NLP) tasks (where computers deal with language), is processing text in a way that computers can understand it. We're going to **take each of the words that appears in our dataset and represent it with a number.** This will be part of a process called ***tokenization*.**\n",
        "\n",
        "Before we do that, we need to **make sure we have good data.** There are some headlines that are listed as \"Unknown\".  We don't want these items in our training set, so we'll filter them out: "
      ],
      "metadata": {
        "id": "90E2sAVQcqJV"
      }
    },
    {
      "cell_type": "code",
      "source": [
        "# remove all headlines with the value of \"Unknown\"\n",
        "all_headlines = [h for h in all_headlines if h != \"Unknown\"]\n",
        "len(all_headlines)"
      ],
      "metadata": {
        "execution": {
          "iopub.status.busy": "2021-12-25T16:27:36.143038Z",
          "iopub.execute_input": "2021-12-25T16:27:36.14324Z",
          "iopub.status.idle": "2021-12-25T16:27:36.15683Z",
          "shell.execute_reply.started": "2021-12-25T16:27:36.143208Z",
          "shell.execute_reply": "2021-12-25T16:27:36.155789Z"
        },
        "trusted": true,
        "id": "pOuKN_M_cqJW",
        "colab": {
          "base_uri": "https://localhost:8080/"
        },
        "outputId": "6a17fc87-c3fd-4724-ab27-9cf88eed4d08"
      },
      "execution_count": 9,
      "outputs": [
        {
          "output_type": "execute_result",
          "data": {
            "text/plain": [
              "8603"
            ]
          },
          "metadata": {},
          "execution_count": 9
        }
      ]
    },
    {
      "cell_type": "markdown",
      "source": [
        "Let's take another look:"
      ],
      "metadata": {
        "id": "hAFfX-_xcqJY"
      }
    },
    {
      "cell_type": "code",
      "source": [
        "all_headlines[:20]"
      ],
      "metadata": {
        "execution": {
          "iopub.status.busy": "2021-12-25T16:27:36.158713Z",
          "iopub.execute_input": "2021-12-25T16:27:36.159156Z",
          "iopub.status.idle": "2021-12-25T16:27:36.168967Z",
          "shell.execute_reply.started": "2021-12-25T16:27:36.15912Z",
          "shell.execute_reply": "2021-12-25T16:27:36.16831Z"
        },
        "trusted": true,
        "id": "GA6LMCfbcqJZ",
        "colab": {
          "base_uri": "https://localhost:8080/"
        },
        "outputId": "8462d8f3-0ccd-4b1a-ae11-042119f26ded"
      },
      "execution_count": 10,
      "outputs": [
        {
          "output_type": "execute_result",
          "data": {
            "text/plain": [
              "['The Opioid Crisis Foretold',\n",
              " 'The Business Deals That Could Imperil Trump',\n",
              " 'Adapting to American Decline',\n",
              " 'The Republicans’ Big Senate Mess',\n",
              " 'States Are Doing What Scott Pruitt Won’t',\n",
              " 'Fake Pearls, Real Heart',\n",
              " 'Fear Beyond Starbucks',\n",
              " 'Variety: Puns and Anagrams',\n",
              " 'E.P.A. Chief’s Ethics Woes Have Echoes in His Past',\n",
              " 'Where Facebook Rumors Fuel Thirst for Revenge',\n",
              " 'The House Next Door Is an Airbnb. Here’s What You Can Do About It.',\n",
              " 'Punch the Air',\n",
              " 'Caution, Babies Voting',\n",
              " 'Childbirth’s Dangers for Black Women',\n",
              " 'A Man Set Himself on Fire. We Barely Noticed.',\n",
              " 'Why Men Quit and Women Don’t',\n",
              " 'Jewish Power At 70 Years',\n",
              " 'Here to Help; A Word on Phrasing: ‘Just Deserts’',\n",
              " 'It’s Curtains for ‘Gypsy’',\n",
              " 'The Endless Search for a Lost Glove']"
            ]
          },
          "metadata": {},
          "execution_count": 10
        }
      ]
    },
    {
      "cell_type": "markdown",
      "source": [
        "We also want to **remove punctuation and make our sentences all lower case, because this will make our model easier to train.** For our purposes, there is little or no difference between a line ending with \"!\" or \"?\" or whether words are capitalized, as in \"The\" or lower-case, as in \"the\".  **With fewer unique tokens, our model will be easier to train.**\n",
        "\n",
        "We could filter our sentences prior to tokenization, but we don't need to because this can all be done using the Keras `Tokenizer`."
      ],
      "metadata": {
        "id": "EhlryuX1cqJZ"
      }
    },
    {
      "cell_type": "markdown",
      "source": [
        "## Tokenization"
      ],
      "metadata": {
        "id": "PWCJsaUvcqJZ"
      }
    },
    {
      "cell_type": "markdown",
      "source": [
        "**Right now, our dataset consists of a set of headlines, each made up of a series of words.** We want to **give our model a way of representing those words in a way that it can understand.** With tokenization, we separate a piece of text into smaller chunks (tokens), which in this case are words. Each unique word is then assigned a number, as this is a way that our model can understand the data. Keras has a class that will help us tokenize our data:\n",
        "\n",
        "```python\n",
        "tf.keras.preprocessing.text.Tokenizer(\n",
        "    num_words=None, filters='!\"#$%&()*+,-./:;<=>?@[\\\\]^_`{|}~\\t\\n', lower=True,\n",
        "    split=' ', char_level=False, oov_token=None, document_count=0, **kwargs\n",
        ")\n",
        "```\n",
        "\n",
        "Taking a look at the [Tokenizer](https://www.tensorflow.org/api_docs/python/tf/keras/preprocessing/text/Tokenizer) class in Keras, we see **the default values are already set up for our use case.**  The `filters` string already removes punctuation and the `lower` flag sets words to lower case."
      ],
      "metadata": {
        "id": "4UeIOgzicqJa"
      }
    },
    {
      "cell_type": "code",
      "source": [
        "from tensorflow.keras.preprocessing.text import Tokenizer\n",
        "\n",
        "# tokenize the words in our headlines\n",
        "tokenizer = Tokenizer()\n",
        "tokenizer.fit_on_texts(all_headlines)\n",
        "total_words = len(tokenizer.word_index) + 1  # plus 1 because remember that index starts at 0\n",
        "print('Total words: ', total_words)"
      ],
      "metadata": {
        "execution": {
          "iopub.status.busy": "2021-12-25T16:27:36.170208Z",
          "iopub.execute_input": "2021-12-25T16:27:36.170453Z",
          "iopub.status.idle": "2021-12-25T16:27:42.745851Z",
          "shell.execute_reply.started": "2021-12-25T16:27:36.170426Z",
          "shell.execute_reply": "2021-12-25T16:27:42.74488Z"
        },
        "trusted": true,
        "id": "nheNNHzVcqJa",
        "colab": {
          "base_uri": "https://localhost:8080/"
        },
        "outputId": "d75638e3-07ac-4203-e800-232f1dc70e61"
      },
      "execution_count": 11,
      "outputs": [
        {
          "output_type": "stream",
          "name": "stdout",
          "text": [
            "Total words:  11753\n"
          ]
        }
      ]
    },
    {
      "cell_type": "markdown",
      "source": [
        "We can take a quick look at the `word_index` dictionary to see how the tokenizer saves the words:"
      ],
      "metadata": {
        "id": "Ciecoe-8cqJa"
      }
    },
    {
      "cell_type": "code",
      "source": [
        "# print a subset of the word_index dictionary created by Tokenizer\n",
        "subset_dict = {key: value for key, value in tokenizer.word_index.items() \\\n",
        "               if key in ['a','man','a','plan','a','canal','panama']}\n",
        "print(subset_dict)"
      ],
      "metadata": {
        "execution": {
          "iopub.status.busy": "2021-12-25T16:27:42.747205Z",
          "iopub.execute_input": "2021-12-25T16:27:42.747567Z",
          "iopub.status.idle": "2021-12-25T16:27:42.755133Z",
          "shell.execute_reply.started": "2021-12-25T16:27:42.747526Z",
          "shell.execute_reply": "2021-12-25T16:27:42.754565Z"
        },
        "trusted": true,
        "id": "YUe-sEg6cqJb",
        "colab": {
          "base_uri": "https://localhost:8080/"
        },
        "outputId": "d6158fcc-5b1c-4eda-e57e-df1162d378fd"
      },
      "execution_count": 12,
      "outputs": [
        {
          "output_type": "stream",
          "name": "stdout",
          "text": [
            "{'a': 2, 'plan': 82, 'man': 137, 'panama': 3032, 'canal': 8969}\n"
          ]
        }
      ]
    },
    {
      "cell_type": "markdown",
      "source": [
        "We can use the `texts_to_sequences` method to see how the tokenizer saves the words:"
      ],
      "metadata": {
        "id": "0KzArmVCcqJb"
      }
    },
    {
      "cell_type": "code",
      "source": [
        "tokenizer.texts_to_sequences(['a','man','a','plan','a','canal','panama'])"
      ],
      "metadata": {
        "execution": {
          "iopub.status.busy": "2021-12-25T16:27:42.755877Z",
          "iopub.execute_input": "2021-12-25T16:27:42.756435Z",
          "iopub.status.idle": "2021-12-25T16:27:42.782703Z",
          "shell.execute_reply.started": "2021-12-25T16:27:42.756402Z",
          "shell.execute_reply": "2021-12-25T16:27:42.781745Z"
        },
        "trusted": true,
        "id": "6XGeNilzcqJb",
        "colab": {
          "base_uri": "https://localhost:8080/"
        },
        "outputId": "503ff436-c7fd-4181-a9e8-a973ee1cdfcc"
      },
      "execution_count": 13,
      "outputs": [
        {
          "output_type": "execute_result",
          "data": {
            "text/plain": [
              "[[2], [137], [2], [82], [2], [8969], [3032]]"
            ]
          },
          "metadata": {},
          "execution_count": 13
        }
      ]
    },
    {
      "cell_type": "markdown",
      "source": [
        "## Creating Sequences"
      ],
      "metadata": {
        "id": "LTNcf9oTcqJb"
      }
    },
    {
      "cell_type": "markdown",
      "source": [
        "Now that we've tokenized the data, turning each word into a representative number, we will **create sequences of tokens from the headlines.** **These sequences are what we will train our deep learning model on.**\n",
        "\n",
        "For example, let's take the headline, \"nvidia launches ray tracing gpus\". **Each word is going to be replaced by a corresponding number**, for instance: nvidia - 5, launches - 22, ray - 94, tracing - 16, gpus - 102. The full sequence would be: [5, 22, 94, 16, 102]. However, it is also valuable to train on the smaller sequences within the headline, such as \"nvidia launches\". We'll **take each headline and create a set of sequences to fill our dataset.** Next, let's **use our tokenizer to convert our headlines to a set of sequences.**"
      ],
      "metadata": {
        "id": "qaZZi499cqJc"
      }
    },
    {
      "cell_type": "code",
      "source": [
        "# convert data to sequence of tokens \n",
        "input_sequences = []\n",
        "for line in all_headlines:\n",
        "    # convert our headline into a sequence of tokens\n",
        "    token_list = tokenizer.texts_to_sequences([line])[0]\n",
        "    \n",
        "    # create a series of sequences for each headline\n",
        "    for i in range(1, len(token_list)):\n",
        "        partial_sequence = token_list[:i+1]\n",
        "        input_sequences.append(partial_sequence)\n",
        "\n",
        "print(tokenizer.sequences_to_texts(input_sequences[:5]))\n",
        "input_sequences[:5]"
      ],
      "metadata": {
        "execution": {
          "iopub.status.busy": "2021-12-25T16:27:42.783689Z",
          "iopub.execute_input": "2021-12-25T16:27:42.783914Z",
          "iopub.status.idle": "2021-12-25T16:27:42.929008Z",
          "shell.execute_reply.started": "2021-12-25T16:27:42.783885Z",
          "shell.execute_reply": "2021-12-25T16:27:42.928121Z"
        },
        "trusted": true,
        "id": "l4S4APeccqJc",
        "colab": {
          "base_uri": "https://localhost:8080/"
        },
        "outputId": "3cf29a99-d733-4413-eb27-eba9563c36a4"
      },
      "execution_count": 14,
      "outputs": [
        {
          "output_type": "stream",
          "name": "stdout",
          "text": [
            "['the opioid', 'the opioid crisis', 'the opioid crisis foretold', 'the business', 'the business deals']\n"
          ]
        },
        {
          "output_type": "execute_result",
          "data": {
            "text/plain": [
              "[[1, 1380], [1, 1380, 203], [1, 1380, 203, 2514], [1, 486], [1, 486, 822]]"
            ]
          },
          "metadata": {},
          "execution_count": 14
        }
      ]
    },
    {
      "cell_type": "markdown",
      "source": [
        "## Padding Sequences"
      ],
      "metadata": {
        "id": "SYSmgLC1cqJc"
      }
    },
    {
      "cell_type": "markdown",
      "source": [
        "**Right now our sequences are of various lengths.** For our model to be able to train on the data, we need to make all the sequences the same length. To do this we'll **add padding to the sequences.** Keras has a built-in `pad_sequences` [method](https://www.tensorflow.org/api_docs/python/tf/keras/preprocessing/sequence/pad_sequences) that we can use. "
      ],
      "metadata": {
        "id": "EHNUEvyqcqJc"
      }
    },
    {
      "cell_type": "code",
      "source": [
        "from tensorflow.keras.preprocessing.sequence import pad_sequences\n",
        "import numpy as np\n",
        "\n",
        "# determine max sequence length\n",
        "max_sequence_len = max([len(x) for x in input_sequences])\n",
        "\n",
        "# pad all sequences with zeros at the beginning to make them all max length\n",
        "input_sequences = np.array(pad_sequences(input_sequences, maxlen=max_sequence_len, padding='pre'))\n",
        "input_sequences[0]"
      ],
      "metadata": {
        "execution": {
          "iopub.status.busy": "2021-12-25T16:27:42.930365Z",
          "iopub.execute_input": "2021-12-25T16:27:42.930747Z",
          "iopub.status.idle": "2021-12-25T16:27:43.15354Z",
          "shell.execute_reply.started": "2021-12-25T16:27:42.930704Z",
          "shell.execute_reply": "2021-12-25T16:27:43.152736Z"
        },
        "trusted": true,
        "id": "xD88_ZWAcqJd",
        "colab": {
          "base_uri": "https://localhost:8080/"
        },
        "outputId": "442944ca-130e-47c5-b422-af3fa3f66979"
      },
      "execution_count": 15,
      "outputs": [
        {
          "output_type": "execute_result",
          "data": {
            "text/plain": [
              "array([   0,    0,    0,    0,    0,    0,    0,    0,    0,    0,    0,\n",
              "          0,    0,    0,    0,    0,    0,    0,    0,    0,    0,    0,\n",
              "          0,    0,    0,    0,    1, 1380], dtype=int32)"
            ]
          },
          "metadata": {},
          "execution_count": 15
        }
      ]
    },
    {
      "cell_type": "markdown",
      "source": [
        "## Creating Predictors and Target"
      ],
      "metadata": {
        "id": "HXdUXklYcqJd"
      }
    },
    {
      "cell_type": "markdown",
      "source": [
        "We also want to **split up our sequences into predictors and a target.** **The last word of the sequence will be our target, and the first words of the sequence will be our predictors.** As an example, take a look at the full headline: \"nvidia releases ampere graphics cards\""
      ],
      "metadata": {
        "id": "N_q03gUQcqJd"
      }
    },
    {
      "cell_type": "markdown",
      "source": [
        "<table>\n",
        "<tr><td>PREDICTORS </td> <td>           TARGET </td></tr>\n",
        "<tr><td>nvidia                   </td> <td>  releases </td></tr>\n",
        "<tr><td>nvidia releases               </td> <td>  ampere </td></tr>\n",
        "<tr><td>nvidia releases ampere      </td> <td>  graphics</td></tr>\n",
        "<tr><td>nvidia releases ampere graphics </td> <td>  cards</td></tr>\n",
        "</table>"
      ],
      "metadata": {
        "id": "1j57lcjvcqJd"
      }
    },
    {
      "cell_type": "code",
      "source": [
        "# predictors are every word except the last\n",
        "predictors = input_sequences[:,:-1]\n",
        "# labels are the last word\n",
        "labels = input_sequences[:,-1]\n",
        "labels[:5]"
      ],
      "metadata": {
        "execution": {
          "iopub.status.busy": "2021-12-25T16:27:43.156546Z",
          "iopub.execute_input": "2021-12-25T16:27:43.156923Z",
          "iopub.status.idle": "2021-12-25T16:27:43.163357Z",
          "shell.execute_reply.started": "2021-12-25T16:27:43.156878Z",
          "shell.execute_reply": "2021-12-25T16:27:43.162361Z"
        },
        "trusted": true,
        "id": "c28C4FXGcqJe",
        "colab": {
          "base_uri": "https://localhost:8080/"
        },
        "outputId": "8dfb551a-80f0-4b3e-ea3b-44bd4afed851"
      },
      "execution_count": 16,
      "outputs": [
        {
          "output_type": "execute_result",
          "data": {
            "text/plain": [
              "array([1380,  203, 2514,  486,  822], dtype=int32)"
            ]
          },
          "metadata": {},
          "execution_count": 16
        }
      ]
    },
    {
      "cell_type": "markdown",
      "source": [
        "Like our earlier sections, **these targets are categorical.** We are predicting one word out of our possible total vocabulary. Instead of the network predicting scalar numbers, we will **have it predict binary categories.**"
      ],
      "metadata": {
        "id": "2bgtZmJUcqJe"
      }
    },
    {
      "cell_type": "code",
      "source": [
        "from tensorflow.keras import utils\n",
        "\n",
        "labels = utils.to_categorical(labels, num_classes=total_words)"
      ],
      "metadata": {
        "execution": {
          "iopub.status.busy": "2021-12-25T16:27:43.165218Z",
          "iopub.execute_input": "2021-12-25T16:27:43.165862Z",
          "iopub.status.idle": "2021-12-25T16:27:43.326559Z",
          "shell.execute_reply.started": "2021-12-25T16:27:43.165816Z",
          "shell.execute_reply": "2021-12-25T16:27:43.325885Z"
        },
        "trusted": true,
        "id": "Mp5SUvEMcqJe"
      },
      "execution_count": 17,
      "outputs": []
    },
    {
      "cell_type": "markdown",
      "source": [
        "## Creating the Model"
      ],
      "metadata": {
        "id": "WnOpBiX_cqJf"
      }
    },
    {
      "cell_type": "markdown",
      "source": [
        "For our model, we're going to use a couple of new layers to deal with our sequential data. "
      ],
      "metadata": {
        "id": "EiYdN7grcqJf"
      }
    },
    {
      "cell_type": "markdown",
      "source": [
        "### [Embedding Layer](https://www.tensorflow.org/api_docs/python/tf/keras/layers/Embedding)"
      ],
      "metadata": {
        "id": "2XzqYqkKcqJf"
      }
    },
    {
      "cell_type": "markdown",
      "source": [
        "Our first layer is an **embedding layer**:\n",
        "\n",
        "```Python\n",
        "model.add(Embedding(input_dimension, output_dimension, input_length=input_len))\n",
        "```\n",
        "\n",
        "This layer will **take the tokenized sequences and will learn an embedding for all of the words in the training dataset.** Mathematically, embeddings work the same way as a neuron in a neural network, but conceptually, their goal is to reduce the number of dimensions for some or all of the features. In this case, **it will represent each word as a vector, and the information within that vector will contain the relationships between each word.**\n",
        "\n",
        "Learn more about embedding layers [here](https://machinelearningmastery.com/use-word-embedding-layers-deep-learning-keras/).\n",
        "\n",
        "<center><img src=\"https://i.postimg.cc/wvpdvfw8/embedding.png\" width=\"350\"></center>"
      ],
      "metadata": {
        "id": "yNCNzu4GcqJf"
      }
    },
    {
      "cell_type": "markdown",
      "source": [
        "### [Long Short Term Memory Layer](https://www.tensorflow.org/api_docs/python/tf/keras/layers/LSTM)"
      ],
      "metadata": {
        "id": "mcDYDRm8cqJf"
      }
    },
    {
      "cell_type": "markdown",
      "source": [
        "Our next, and **very important layer**, is a **long short term memory layer (LSTM).** An LSTM is a type of recurrent neural network or RNN. **Unlike traditional feed-forward networks that we've seen so far, recurrent networks have loops in them, allowing information to persist.** Here's a representation of a recurrent network:"
      ],
      "metadata": {
        "id": "fMOOpqQpcqJg"
      }
    },
    {
      "cell_type": "markdown",
      "source": [
        "<center><img src=\"https://i.postimg.cc/VL52YPz0/rnn-rolled.png\" width=\"150\"></center>"
      ],
      "metadata": {
        "id": "FHmj18ULcqJg"
      }
    },
    {
      "cell_type": "markdown",
      "source": [
        "**New information (x) gets passed in to the network, which spits out a prediction (h).** Additionally, information from that layer gets saved, and used as input for the next prediction. This may seem a bit complicated, but let's look at it unrolled: "
      ],
      "metadata": {
        "id": "_FD7LW_tcqJg"
      }
    },
    {
      "cell_type": "markdown",
      "source": [
        "<center><img src=\"https://i.postimg.cc/7PJQcM9S/rnn-unrolled.png\" width=\"800\"></center>"
      ],
      "metadata": {
        "id": "WBXfQzSicqJg"
      }
    },
    {
      "cell_type": "markdown",
      "source": [
        "**We can see that when a new piece of data (x) is fed into the network, that network both spits out a prediction (h) and also passes some information along to the next layer.** That next layer gets another piece of data, but gets to learn from the layer before it as well.\n",
        "\n",
        "**Traditional RNNs suffer from the issue of more recent information contributing more than information from further back.** LSTMs are a special type of recurrent layer that are **able to learn and retain longer term information.** Read more about RNNs and LSTMs in [this article](https://colah.github.io/posts/2015-08-Understanding-LSTMs/). \n",
        "\n",
        "Alright, let's create our model:"
      ],
      "metadata": {
        "id": "1dd3r9RacqJh"
      }
    },
    {
      "cell_type": "code",
      "source": [
        "from tensorflow.keras.layers import Embedding, LSTM, Dense, Dropout\n",
        "from tensorflow.keras.models import Sequential\n",
        "\n",
        "# input is max sequence length - 1, as we've removed the last word for the label\n",
        "input_len = max_sequence_len - 1 \n",
        "\n",
        "model = Sequential()\n",
        "\n",
        "# add input embedding layer\n",
        "model.add(Embedding(total_words, 10, input_length=input_len))\n",
        "\n",
        "# add LSTM layer with 100 units\n",
        "model.add(LSTM(100))\n",
        "model.add(Dropout(0.1))\n",
        "\n",
        "# add output layer\n",
        "model.add(Dense(total_words, activation='softmax'))"
      ],
      "metadata": {
        "execution": {
          "iopub.status.busy": "2021-12-25T16:27:43.32744Z",
          "iopub.execute_input": "2021-12-25T16:27:43.327933Z",
          "iopub.status.idle": "2021-12-25T16:27:43.731518Z",
          "shell.execute_reply.started": "2021-12-25T16:27:43.327894Z",
          "shell.execute_reply": "2021-12-25T16:27:43.730749Z"
        },
        "trusted": true,
        "id": "-3CiE7VLcqJh"
      },
      "execution_count": 18,
      "outputs": []
    },
    {
      "cell_type": "code",
      "source": [
        "model.summary()"
      ],
      "metadata": {
        "execution": {
          "iopub.status.busy": "2021-12-25T16:27:43.733159Z",
          "iopub.execute_input": "2021-12-25T16:27:43.733527Z",
          "iopub.status.idle": "2021-12-25T16:27:43.740303Z",
          "shell.execute_reply.started": "2021-12-25T16:27:43.733459Z",
          "shell.execute_reply": "2021-12-25T16:27:43.739739Z"
        },
        "trusted": true,
        "id": "4urAbyPucqJh",
        "colab": {
          "base_uri": "https://localhost:8080/"
        },
        "outputId": "d51e4c0b-2010-4b95-bb05-db00cf78bf3c"
      },
      "execution_count": 19,
      "outputs": [
        {
          "output_type": "stream",
          "name": "stdout",
          "text": [
            "Model: \"sequential\"\n",
            "_________________________________________________________________\n",
            " Layer (type)                Output Shape              Param #   \n",
            "=================================================================\n",
            " embedding (Embedding)       (None, 27, 10)            117530    \n",
            "                                                                 \n",
            " lstm (LSTM)                 (None, 100)               44400     \n",
            "                                                                 \n",
            " dropout (Dropout)           (None, 100)               0         \n",
            "                                                                 \n",
            " dense (Dense)               (None, 11753)             1187053   \n",
            "                                                                 \n",
            "=================================================================\n",
            "Total params: 1,348,983\n",
            "Trainable params: 1,348,983\n",
            "Non-trainable params: 0\n",
            "_________________________________________________________________\n"
          ]
        }
      ]
    },
    {
      "cell_type": "markdown",
      "source": [
        "## Compiling the Model"
      ],
      "metadata": {
        "id": "32hMQWafcqJh"
      }
    },
    {
      "cell_type": "markdown",
      "source": [
        "As before, we compile our model with categorical crossentropy, as we're categorically predicting one word from our total vocabulary. In this case, **we are not going to use accuracy as a metric, because text prediction is not measured as being more or less accurate in the same way as image classification.**\n",
        "\n",
        "We are also going to **select a particular optimizer that is well suited for LSTM tasks, called the *Adam* optimizer.** What's important to know is that **different optimizers can be better for different deep learning tasks.** Read more about them, including the Adam optimizer [here](https://medium.com/datadriveninvestor/overview-of-different-optimizers-for-neural-networks-e0ed119440c3). "
      ],
      "metadata": {
        "id": "nSmIWS8McqJi"
      }
    },
    {
      "cell_type": "code",
      "source": [
        "model.compile(loss='categorical_crossentropy', optimizer='adam')"
      ],
      "metadata": {
        "execution": {
          "iopub.status.busy": "2021-12-25T16:27:43.741116Z",
          "iopub.execute_input": "2021-12-25T16:27:43.742078Z",
          "iopub.status.idle": "2021-12-25T16:27:43.757802Z",
          "shell.execute_reply.started": "2021-12-25T16:27:43.742028Z",
          "shell.execute_reply": "2021-12-25T16:27:43.756554Z"
        },
        "trusted": true,
        "id": "m5wQ1Q-ncqJi"
      },
      "execution_count": 20,
      "outputs": []
    },
    {
      "cell_type": "markdown",
      "source": [
        "## Training the Model"
      ],
      "metadata": {
        "id": "o0oWEGpFcqJi"
      }
    },
    {
      "cell_type": "markdown",
      "source": [
        "Similar to earlier sections, we fit our model in the same way. This time we'll train for 30 epochs, which will take a few minutes. You'll notice that we don't have a training or validation accuracy score in this case. **This reflects our different problem of text prediction.**"
      ],
      "metadata": {
        "id": "DFjgZZ3gcqJi"
      }
    },
    {
      "cell_type": "code",
      "source": [
        "model.fit(predictors, labels, epochs=30, verbose=1)"
      ],
      "metadata": {
        "scrolled": true,
        "execution": {
          "iopub.status.busy": "2021-12-25T16:27:43.75913Z",
          "iopub.execute_input": "2021-12-25T16:27:43.759626Z",
          "iopub.status.idle": "2021-12-25T16:27:56.670424Z",
          "shell.execute_reply.started": "2021-12-25T16:27:43.759591Z",
          "shell.execute_reply": "2021-12-25T16:27:56.668362Z"
        },
        "trusted": true,
        "id": "kVhkwYBycqJj",
        "colab": {
          "base_uri": "https://localhost:8080/"
        },
        "outputId": "b1247f5c-8480-436d-8bf0-1e32e76ed2ca"
      },
      "execution_count": 21,
      "outputs": [
        {
          "output_type": "stream",
          "name": "stdout",
          "text": [
            "Epoch 1/30\n",
            "1666/1666 [==============================] - 48s 27ms/step - loss: 7.8950\n",
            "Epoch 2/30\n",
            "1666/1666 [==============================] - 45s 27ms/step - loss: 7.4872\n",
            "Epoch 3/30\n",
            "1666/1666 [==============================] - 46s 27ms/step - loss: 7.3075\n",
            "Epoch 4/30\n",
            "1666/1666 [==============================] - 45s 27ms/step - loss: 7.0881\n",
            "Epoch 5/30\n",
            "1666/1666 [==============================] - 45s 27ms/step - loss: 6.8487\n",
            "Epoch 6/30\n",
            "1666/1666 [==============================] - 45s 27ms/step - loss: 6.6148\n",
            "Epoch 7/30\n",
            "1666/1666 [==============================] - 45s 27ms/step - loss: 6.3750\n",
            "Epoch 8/30\n",
            "1666/1666 [==============================] - 45s 27ms/step - loss: 6.1373\n",
            "Epoch 9/30\n",
            "1666/1666 [==============================] - 45s 27ms/step - loss: 5.9018\n",
            "Epoch 10/30\n",
            "1666/1666 [==============================] - 46s 27ms/step - loss: 5.6751\n",
            "Epoch 11/30\n",
            "1666/1666 [==============================] - 45s 27ms/step - loss: 5.4634\n",
            "Epoch 12/30\n",
            "1666/1666 [==============================] - 45s 27ms/step - loss: 5.2577\n",
            "Epoch 13/30\n",
            "1666/1666 [==============================] - 45s 27ms/step - loss: 5.0605\n",
            "Epoch 14/30\n",
            "1666/1666 [==============================] - 45s 27ms/step - loss: 4.8835\n",
            "Epoch 15/30\n",
            "1666/1666 [==============================] - 45s 27ms/step - loss: 4.7091\n",
            "Epoch 16/30\n",
            "1666/1666 [==============================] - 45s 27ms/step - loss: 4.5456\n",
            "Epoch 17/30\n",
            "1666/1666 [==============================] - 46s 27ms/step - loss: 4.3924\n",
            "Epoch 18/30\n",
            "1666/1666 [==============================] - 46s 27ms/step - loss: 4.2513\n",
            "Epoch 19/30\n",
            "1666/1666 [==============================] - 46s 27ms/step - loss: 4.1172\n",
            "Epoch 20/30\n",
            "1666/1666 [==============================] - 46s 27ms/step - loss: 3.9887\n",
            "Epoch 21/30\n",
            "1666/1666 [==============================] - 46s 28ms/step - loss: 3.8681\n",
            "Epoch 22/30\n",
            "1666/1666 [==============================] - 46s 28ms/step - loss: 3.7558\n",
            "Epoch 23/30\n",
            "1666/1666 [==============================] - 46s 28ms/step - loss: 3.6476\n",
            "Epoch 24/30\n",
            "1666/1666 [==============================] - 47s 28ms/step - loss: 3.5477\n",
            "Epoch 25/30\n",
            "1666/1666 [==============================] - 46s 28ms/step - loss: 3.4518\n",
            "Epoch 26/30\n",
            "1666/1666 [==============================] - 46s 27ms/step - loss: 3.3616\n",
            "Epoch 27/30\n",
            "1666/1666 [==============================] - 46s 27ms/step - loss: 3.2821\n",
            "Epoch 28/30\n",
            "1666/1666 [==============================] - 46s 28ms/step - loss: 3.2020\n",
            "Epoch 29/30\n",
            "1666/1666 [==============================] - 46s 28ms/step - loss: 3.1218\n",
            "Epoch 30/30\n",
            "1666/1666 [==============================] - 46s 28ms/step - loss: 3.0579\n"
          ]
        },
        {
          "output_type": "execute_result",
          "data": {
            "text/plain": [
              "<keras.callbacks.History at 0x7fe8c268e890>"
            ]
          },
          "metadata": {},
          "execution_count": 21
        }
      ]
    },
    {
      "cell_type": "markdown",
      "source": [
        "## Discussion of Results"
      ],
      "metadata": {
        "id": "YiG1q4k9cqJj"
      }
    },
    {
      "cell_type": "markdown",
      "source": [
        "We can see that **the loss decreased over the course of training.** We could train our model further to decrease the loss, but that would take some time, and we're not looking for a perfect text predictor right now. Next let's try using the model to make predictions. "
      ],
      "metadata": {
        "id": "Kj6F40qrcqJj"
      }
    },
    {
      "cell_type": "markdown",
      "source": [
        "## Making Predictions"
      ],
      "metadata": {
        "id": "h9iimTy9cqJj"
      }
    },
    {
      "cell_type": "markdown",
      "source": [
        "In order to make predictions, we'll need to **start with a seed text, and prepare it in the same way we prepared our dataset.** This will mean **tokenizing and padding.** Once we do this, we can **pass it into our model to make a prediction.** We'll create a function to do this called `predict_next_token`:"
      ],
      "metadata": {
        "id": "qThT1gzvcqJj"
      }
    },
    {
      "cell_type": "code",
      "source": [
        "def predict_next_token(seed_text):\n",
        "    token_list = tokenizer.texts_to_sequences([seed_text])[0]\n",
        "    token_list = pad_sequences([token_list], maxlen=max_sequence_len-1, padding='pre')\n",
        "    prediction = np.argmax(model.predict(token_list),axis=1)\n",
        "    return prediction"
      ],
      "metadata": {
        "execution": {
          "iopub.status.busy": "2021-12-25T16:27:56.671368Z",
          "iopub.status.idle": "2021-12-25T16:27:56.671674Z",
          "shell.execute_reply.started": "2021-12-25T16:27:56.671523Z",
          "shell.execute_reply": "2021-12-25T16:27:56.67154Z"
        },
        "trusted": true,
        "id": "Ya5wPj6kcqJk"
      },
      "execution_count": 24,
      "outputs": []
    },
    {
      "cell_type": "code",
      "source": [
        "prediction = predict_next_token(\"today in new york\")\n",
        "prediction"
      ],
      "metadata": {
        "execution": {
          "iopub.status.busy": "2021-12-25T16:27:56.672843Z",
          "iopub.status.idle": "2021-12-25T16:27:56.673533Z",
          "shell.execute_reply.started": "2021-12-25T16:27:56.673335Z",
          "shell.execute_reply": "2021-12-25T16:27:56.673357Z"
        },
        "trusted": true,
        "id": "U1VMCgc4cqJk",
        "colab": {
          "base_uri": "https://localhost:8080/"
        },
        "outputId": "82a4be84-d7d4-4825-c072-745937a01af5"
      },
      "execution_count": 25,
      "outputs": [
        {
          "output_type": "execute_result",
          "data": {
            "text/plain": [
              "array([8932])"
            ]
          },
          "metadata": {},
          "execution_count": 25
        }
      ]
    },
    {
      "cell_type": "markdown",
      "source": [
        "Let's use our tokenizer to decode the predicted word:"
      ],
      "metadata": {
        "id": "Y05k7bTOcqJk"
      }
    },
    {
      "cell_type": "code",
      "source": [
        "tokenizer.sequences_to_texts([prediction])"
      ],
      "metadata": {
        "execution": {
          "iopub.status.busy": "2021-12-25T16:27:56.674193Z",
          "iopub.status.idle": "2021-12-25T16:27:56.674573Z",
          "shell.execute_reply.started": "2021-12-25T16:27:56.674386Z",
          "shell.execute_reply": "2021-12-25T16:27:56.674405Z"
        },
        "trusted": true,
        "id": "ateuc6SNcqJk",
        "colab": {
          "base_uri": "https://localhost:8080/"
        },
        "outputId": "d635c986-bad1-4caf-91bd-0aacb6df512f"
      },
      "execution_count": 26,
      "outputs": [
        {
          "output_type": "execute_result",
          "data": {
            "text/plain": [
              "['subway’s']"
            ]
          },
          "metadata": {},
          "execution_count": 26
        }
      ]
    },
    {
      "cell_type": "markdown",
      "source": [
        "## Generate New Headlines"
      ],
      "metadata": {
        "id": "19B2FxipcqJk"
      }
    },
    {
      "cell_type": "markdown",
      "source": [
        "Now that we're able to predict new words, let's create a function that can **predict headlines of more than just one word.** The function below creates a new headline of arbitrary length."
      ],
      "metadata": {
        "id": "oBIShbAdcqJk"
      }
    },
    {
      "cell_type": "code",
      "source": [
        "def generate_headline(seed_text, next_words=1):\n",
        "    for _ in range(next_words):\n",
        "        # predict next token\n",
        "        prediction = predict_next_token(seed_text)\n",
        "        # convert token to word\n",
        "        next_word = tokenizer.sequences_to_texts([prediction])[0]\n",
        "        # add next word to the headline, this headline will be used in the next pass of the loop\n",
        "        seed_text += \" \" + next_word\n",
        "    # return headline as title-case\n",
        "    return seed_text.title()"
      ],
      "metadata": {
        "execution": {
          "iopub.status.busy": "2021-12-25T16:27:56.67543Z",
          "iopub.status.idle": "2021-12-25T16:27:56.675744Z",
          "shell.execute_reply.started": "2021-12-25T16:27:56.675567Z",
          "shell.execute_reply": "2021-12-25T16:27:56.675581Z"
        },
        "trusted": true,
        "id": "lm2cfZe3cqJl"
      },
      "execution_count": 27,
      "outputs": []
    },
    {
      "cell_type": "markdown",
      "source": [
        "Now try some headlines!"
      ],
      "metadata": {
        "id": "aMiHkgEzcqJl"
      }
    },
    {
      "cell_type": "code",
      "source": [
        "seed_texts = [\n",
        "    'washington dc is',\n",
        "    'today in new york',\n",
        "    'the school district has',\n",
        "    'crime has become']\n",
        "for seed in seed_texts:\n",
        "    print(generate_headline(seed, next_words=5))"
      ],
      "metadata": {
        "execution": {
          "iopub.status.busy": "2021-12-25T16:27:56.677464Z",
          "iopub.status.idle": "2021-12-25T16:27:56.678107Z",
          "shell.execute_reply.started": "2021-12-25T16:27:56.677934Z",
          "shell.execute_reply": "2021-12-25T16:27:56.677955Z"
        },
        "trusted": true,
        "id": "lywXh57FcqJl",
        "colab": {
          "base_uri": "https://localhost:8080/"
        },
        "outputId": "f0a37785-1471-462f-d21f-ba63c4ec0567"
      },
      "execution_count": 28,
      "outputs": [
        {
          "output_type": "stream",
          "name": "stdout",
          "text": [
            "Washington Dc Is Going To Govern Some Leaves\n",
            "Today In New York Subway’S Service 2018 Straphangers Victim\n",
            "The School District Has The Broken Trump System Is\n",
            "Crime Has Become A New Presidential … Heat\n"
          ]
        }
      ]
    },
    {
      "cell_type": "markdown",
      "source": [
        "The results may be a bit underwhelming after 30 epochs of training.  We can notice that **most of the headlines make some kind of grammatical sense, but don't necessarily indicate a good contextual understanding.**  **The results might improve somewhat by running more epochs.** We can do this by runnning the training `fit` cell again (and again!) to train another 30 epochs each time.  We should see the loss value go down.  Then try the tests again.  Results can vary quite a bit!\n",
        "\n",
        "**Other improvements would be to try using pretrained embeddings with Word2Vec or GloVe**, rather than learning them during training as we did with the Keras Embedding layer.  Some information on how to do that can be found [here](https://blog.keras.io/using-pre-trained-word-embeddings-in-a-keras-model.html).\n",
        "\n",
        "Ultimately, however, **NLP has moved beyond simple LSTM models to Transformer-based pre-trained models**, which are able to learn language context from huge amounts of textual data such as Wikipedia.  These pre-trained models are then used as a starting point for transfer learning to solve NLP tasks such as the one we just tried for text completion.  We can try one of these models ourselves by checking out this [state-of-the-art text predictor here](https://transformer.huggingface.co/doc/gpt2-large) based on a [GPT-2 model](https://openai.com/blog/better-language-models/).\n",
        "\n",
        "To learn more about Transformer-based models, check out [this blog](https://ai.googleblog.com/2018/11/open-sourcing-bert-state-of-art-pre.html) on Bidirectional Encoder Representations from Transformers (BERT)."
      ],
      "metadata": {
        "id": "Qr40L-rJcqJl"
      }
    },
    {
      "cell_type": "markdown",
      "source": [
        "## Summary"
      ],
      "metadata": {
        "id": "bvOJb10icqJl"
      }
    },
    {
      "cell_type": "markdown",
      "source": [
        "We've successfully trained **a model to predict words in a headline, and used that model to create headlines of various lengths.** With this model, we can experiment and generate some more headlines."
      ],
      "metadata": {
        "id": "MMf-NtG1cqJm"
      }
    },
    {
      "cell_type": "markdown",
      "source": [
        "<hr>\n",
        "\n",
        "**Source**: [NVIDIA Deep Learning Institute](https://www.nvidia.com/en-us/training/)\n",
        "\n",
        "<hr>"
      ],
      "metadata": {
        "id": "cb4aVNZpekNo"
      }
    }
  ]
}